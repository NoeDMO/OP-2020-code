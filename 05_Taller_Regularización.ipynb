{
  "nbformat": 4,
  "nbformat_minor": 0,
  "metadata": {
    "kernelspec": {
      "display_name": "Python 3",
      "language": "python",
      "name": "python3"
    },
    "language_info": {
      "codemirror_mode": {
        "name": "ipython",
        "version": 3
      },
      "file_extension": ".py",
      "mimetype": "text/x-python",
      "name": "python",
      "nbconvert_exporter": "python",
      "pygments_lexer": "ipython3",
      "version": "3.6.5"
    },
    "colab": {
      "name": "05 - Taller Regularización.ipynb",
      "provenance": [],
      "collapsed_sections": [],
      "include_colab_link": true
    }
  },
  "cells": [
    {
      "cell_type": "markdown",
      "metadata": {
        "id": "view-in-github",
        "colab_type": "text"
      },
      "source": [
        "<a href=\"https://colab.research.google.com/github/victorm0202/OP-2020-code/blob/master/05_Taller_Regularizaci%C3%B3n.ipynb\" target=\"_parent\"><img src=\"https://colab.research.google.com/assets/colab-badge.svg\" alt=\"Open In Colab\"/></a>"
      ]
    },
    {
      "cell_type": "markdown",
      "metadata": {
        "id": "Sjnf4a4_13sj",
        "colab_type": "text"
      },
      "source": [
        "# 04 - Advanced deep-learning best practices"
      ]
    },
    {
      "cell_type": "markdown",
      "metadata": {
        "id": "Fm9QNtES13sn",
        "colab_type": "text"
      },
      "source": [
        "## 04.1 - Monitoreando modelos de Deep Learning usando Keras callbacks y TensorBoard"
      ]
    },
    {
      "cell_type": "markdown",
      "metadata": {
        "id": "Hso-L2aq13sp",
        "colab_type": "text"
      },
      "source": [
        "### 04.1.1 - Callbacks"
      ]
    },
    {
      "cell_type": "markdown",
      "metadata": {
        "id": "j_G0J-ik13sp",
        "colab_type": "text"
      },
      "source": [
        "* **Model checkpointing** : Guarda los pesos actuales del modelo en diferentes puntos del entrenamiento\n",
        "\n",
        "\n",
        "* **Early stopping**: Interrumpe el entrenamiento cuando el error de validación no mejora (guarda el mejor modelo obtenido en el entrenamiento)\n",
        "\n",
        "\n",
        "* **Dynamically adjusting the value of certain parameters during training**: Tal como el learning rate del optimizador \n",
        "\n",
        "\n",
        "* **Logging training and validation metrics during training, or visualizing the representations\n",
        "learned by the model as they’re updated** : La barra del progreso de Keras\n"
      ]
    },
    {
      "cell_type": "code",
      "metadata": {
        "id": "aTjZHxRc13sq",
        "colab_type": "code",
        "colab": {}
      },
      "source": [
        "import keras\n",
        "tensorflow.keras.callbacks.ModelCheckpoint\n",
        "tensorflow.keras.callbacks.EarlyStopping\n",
        "tensorflow.keras.callbacks.LearningRateScheduler\n",
        "tensorflow.keras.callbacks.ReduceLROnPlateau\n",
        "tensorflow.keras.callbacks.CSVLogger"
      ],
      "execution_count": null,
      "outputs": []
    },
    {
      "cell_type": "markdown",
      "metadata": {
        "id": "hKx34hDx13sy",
        "colab_type": "text"
      },
      "source": [
        "**THE MODELCHECKPOINT AND EARLYSTOPPING CALLBACKS**\n",
        "\n",
        "* **EarlyStopping callback:** interrumpe el entrenamiento una vez que la metrica a monitorear deja de mejorar para un número fijo de epocas. Permite detener el entrenamiento antes de presentar problemas de overfitting\n",
        "\n",
        "\n",
        "* **ModelCechpoint**: permite guardr continuamente el modelo durante el entrenamiento (sólo guarda el mejor modelo: el modelo que registra la mejor actuación al final de cada epoca)"
      ]
    },
    {
      "cell_type": "code",
      "metadata": {
        "id": "eWBvEfAD13sz",
        "colab_type": "code",
        "colab": {}
      },
      "source": [
        "import tensorflow as tf \n",
        "\n",
        "# Callback se pasa como argumento en la parte del \"fit\"\n",
        "# por medio de objeto lista puede pasar cualquier número de callbacks\n",
        "\n",
        "callbacks_list = [ tf.keras.callbacks.EarlyStopping( monitor='acc', patience=1,), # Interrumpe entrenamiento cuando no hay mejora\n",
        "                  \n",
        "                  # monitor -> Monitorea el accuracy de validación del modelo\n",
        "                  # patience -> Interrumpe el entrenamiento cuando el accuracy no mejora apartir de una epoca\n",
        "                  \n",
        "                  tf.keras.callbacks.ModelCheckpoint(filepath='my_model.h5', monitor='val_loss', save_best_only=True,)] # Saves the current weights after every epoch\n",
        "                # filepath -> Dirrecchion a guardar del modelo\n",
        "                # monitor & save_best_only ->  Significan que tu no quieres sobre escribir\n",
        "                # los modelos solo si el error de validación mejora\n",
        "                # permitiendo guardar solo los mejores modelos durante el entrenamiento.\n",
        "        \n",
        "\n",
        "# Si monitoreas accuracy, debe ser parte de tu metrica\n",
        "model.compile(optimizer='rmsprop', loss='binary_crossentropy', metrics=['acc'])\n",
        "\n",
        "# Note that because the callback will monitor validation loss and validation accuracy, you need to pass validation_data to the call to fit.\n",
        "model.fit(x, y, epochs=10, batch_size=32, callbacks=callbacks_list, validation_data=(x_val, y_val) )"
      ],
      "execution_count": null,
      "outputs": []
    },
    {
      "cell_type": "markdown",
      "metadata": {
        "id": "ma5d0drq13s7",
        "colab_type": "text"
      },
      "source": [
        "**THE REDUCELRONPLATEAU CALLBACK**\n",
        "\n",
        "* Reduce el learnig rate cuando el error de validación no mejora. Es una estrategia efectiva para salir de mínimos locales durante el entrenamiento"
      ]
    },
    {
      "cell_type": "code",
      "metadata": {
        "id": "JSueloZi13s8",
        "colab_type": "code",
        "colab": {}
      },
      "source": [
        "callbacks_list = [\n",
        "tf.keras.callbacks.ReduceLROnPlateau(\n",
        "monitor='val_loss' # Monitorea el error de validación del modelo\n",
        "factor=0.1, # Divide la tasa de aprendizaje por 10 cuando se activa\n",
        "patience=10, # El callback se activa a partir de que el error de validación deja de \n",
        "            # mejorar durante 10 epocas\n",
        ")\n",
        "]\n",
        "\n",
        "\n",
        "model.fit(x, y,\n",
        "epochs=10,\n",
        "batch_size=32,\n",
        "callbacks=callbacks_list,\n",
        "validation_data=(x_val, y_val))"
      ],
      "execution_count": null,
      "outputs": []
    },
    {
      "cell_type": "markdown",
      "metadata": {
        "id": "7VWjdwW913s_",
        "colab_type": "text"
      },
      "source": [
        "**Escribiendo tu propio callback**\n",
        "\n",
        "* Si requieres de una acción en especifico durante el entrenamiento es conveniente construir tu popio callback"
      ]
    },
    {
      "cell_type": "code",
      "metadata": {
        "id": "gDsZMMqv13tA",
        "colab_type": "code",
        "colab": {}
      },
      "source": [
        "tf.keras.callbacks.Callback\n",
        "\n",
        "on_epoch_begin # Called at the start of every epoch\n",
        "on_epoch_end # Called at the end of every epoch\n",
        "on_batch_begin # Called right before processing each batch\n",
        "on_batch_end # Called right after processing each batch\n",
        "on_train_begin # Called at the start of training\n",
        "on_train_end # Called at the end of training"
      ],
      "execution_count": null,
      "outputs": []
    },
    {
      "cell_type": "markdown",
      "metadata": {
        "id": "Ggwcl78Z13tC",
        "colab_type": "text"
      },
      "source": [
        "* Estos métodos son llamados con un argumento logs, el cual es un diccionario que contiene la información respecto a los lotes previos, epocas, o el registro del entrenamiento"
      ]
    },
    {
      "cell_type": "markdown",
      "metadata": {
        "id": "CNRmx3B-13tC",
        "colab_type": "text"
      },
      "source": [
        "Ejemplo: Guardar las capaz de activación del modelo al final de cada epoca, esto solo para el primer sample del conjunto de validación"
      ]
    },
    {
      "cell_type": "code",
      "metadata": {
        "id": "5iN6D3Vk13tD",
        "colab_type": "code",
        "colab": {}
      },
      "source": [
        "import tensorflow as tf\n",
        "import numpy as np\n",
        "\n",
        "class ActivationLogger(tf.keras.callbacks.Callback):\n",
        "    # Called by the parent model before training, to inform the callback of what model will be calling it\n",
        "    def set_model(self, model):\n",
        "        self.model = model\n",
        "        layer_outputs = [layer.output for layer in model.layers]\n",
        "        self.activations_model = tf.keras.models.Model(model.input,layer_outputs)\n",
        "    # Model instance that returns the activations of every layer    \n",
        "    def on_epoch_end(self, epoch, logs=None):\n",
        "        if self.validation_data is None:\n",
        "            raise RuntimeError('Requires validation_data.')\n",
        "            \n",
        "    validation_sample = self.validation_data[0][0:1] # Obtains the first input sample of the validation data\n",
        "    activations = self.activations_model.predict(validation_sample)\n",
        "    f = open('activations_at_epoch_' + str(epoch) + '.npz', 'w') # Saves arrays to disk\n",
        "    np.savez(f, activations)\n",
        "    f.close()"
      ],
      "execution_count": null,
      "outputs": []
    },
    {
      "cell_type": "markdown",
      "metadata": {
        "id": "G3fK4H-U13tY",
        "colab_type": "text"
      },
      "source": [
        "## 04.2 - Arquitecturas  avanzadas"
      ]
    },
    {
      "cell_type": "markdown",
      "metadata": {
        "id": "7Vlrb3Ce13tZ",
        "colab_type": "text"
      },
      "source": [
        "### 04.2.1 -  Batch Normalization"
      ]
    },
    {
      "cell_type": "markdown",
      "metadata": {
        "id": "mqLKQVSd13ta",
        "colab_type": "text"
      },
      "source": [
        "Es una capa que normaliza datos incluso si la media y varianza de los datos cambian durante el entrenamiento. Ayuda en mejorar el problema de saturación.\n",
        "\n",
        "* Muestras diferentes a algo más simmilar\n",
        "\n",
        "* Generaliza mejor los nuevos datos\n",
        "\n"
      ]
    },
    {
      "cell_type": "markdown",
      "metadata": {
        "id": "Jx_7Ikal13ta",
        "colab_type": "text"
      },
      "source": [
        "normalized_data = (data - np.mean(data, axis=...)) / np.std(data, axis=...)"
      ]
    },
    {
      "cell_type": "markdown",
      "metadata": {
        "id": "_SEOOohj13tb",
        "colab_type": "text"
      },
      "source": [
        "* Se utiliza usualmente seguido de una capa densa o convolucionañ"
      ]
    },
    {
      "cell_type": "code",
      "metadata": {
        "id": "DxVjn8XL13tc",
        "colab_type": "code",
        "colab": {}
      },
      "source": [
        "conv_model.add(layers.Conv2D(32, 3, activation='relu')) # After a Conv layer\n",
        "conv_model.add(layers.BatchNormalization())\n",
        "\n",
        "\n",
        "dense_model.add(layers.Dense(32, activation='relu')) # After a Dense layer\n",
        "dense_model.add(layers.BatchNormalization())"
      ],
      "execution_count": null,
      "outputs": []
    },
    {
      "cell_type": "markdown",
      "metadata": {
        "id": "r1eg3QKK13tf",
        "colab_type": "text"
      },
      "source": [
        "### 04.2.2 -   DEPTHWISE SEPARABLE CONVOLUTION\n",
        "\n",
        "* Depthwise\n",
        "\n",
        "* Pointwise\n",
        "\n",
        "Genera modelos más ligeros (menos pesos) y más rápidos con mejora en el desempeño.\n",
        "\n",
        "La capa realiza una convoluciónespacial para cada canal de entrada, de forma independiente, despues realiza un mixing a los canales de salida por medio de un poinwise convolution (un convolution filtes de tamaño $1 x 1$)"
      ]
    },
    {
      "cell_type": "code",
      "metadata": {
        "id": "-SObq2XP13tf",
        "colab_type": "code",
        "colab": {},
        "outputId": "be3c0918-4ac8-4f9e-8bc7-32e0ba25912b"
      },
      "source": [
        "from keras.models import Sequential, Model\n",
        "from keras import layers\n",
        "\n",
        "height = 64\n",
        "width = 64\n",
        "channels = 3\n",
        "num_classes = 10\n",
        "\n",
        "model = Sequential()\n",
        "model.add(layers.SeparableConv2D(32, 3, activation='relu', input_shape=(height, width, channels,)))\n",
        "\n",
        "model.add(layers.SeparableConv2D(64, 3, activation='relu'))\n",
        "\n",
        "model.add(layers.MaxPooling2D(2))\n",
        "\n",
        "model.add(layers.SeparableConv2D(64, 3, activation='relu'))\n",
        "\n",
        "model.add(layers.SeparableConv2D(128, 3, activation='relu'))\n",
        "\n",
        "model.add(layers.MaxPooling2D(2))\n",
        "\n",
        "model.add(layers.SeparableConv2D(64, 3, activation='relu'))\n",
        "\n",
        "model.add(layers.SeparableConv2D(128, 3, activation='relu'))\n",
        "\n",
        "model.add(layers.GlobalAveragePooling2D())\n",
        "\n",
        "model.add(layers.Dense(32, activation='relu'))\n",
        "\n",
        "model.add(layers.Dense(num_classes, activation='softmax'))\n",
        "\n",
        "model.compile(optimizer='rmsprop', loss='categorical_crossentropy')\n",
        "\n",
        "model.summary()"
      ],
      "execution_count": null,
      "outputs": [
        {
          "output_type": "stream",
          "text": [
            "_________________________________________________________________\n",
            "Layer (type)                 Output Shape              Param #   \n",
            "=================================================================\n",
            "separable_conv2d_1 (Separabl (None, 62, 62, 32)        155       \n",
            "_________________________________________________________________\n",
            "separable_conv2d_2 (Separabl (None, 60, 60, 64)        2400      \n",
            "_________________________________________________________________\n",
            "max_pooling2d_1 (MaxPooling2 (None, 30, 30, 64)        0         \n",
            "_________________________________________________________________\n",
            "separable_conv2d_3 (Separabl (None, 28, 28, 64)        4736      \n",
            "_________________________________________________________________\n",
            "separable_conv2d_4 (Separabl (None, 26, 26, 128)       8896      \n",
            "_________________________________________________________________\n",
            "max_pooling2d_2 (MaxPooling2 (None, 13, 13, 128)       0         \n",
            "_________________________________________________________________\n",
            "separable_conv2d_5 (Separabl (None, 11, 11, 64)        9408      \n",
            "_________________________________________________________________\n",
            "separable_conv2d_6 (Separabl (None, 9, 9, 128)         8896      \n",
            "_________________________________________________________________\n",
            "global_average_pooling2d_1 ( (None, 128)               0         \n",
            "_________________________________________________________________\n",
            "dense_3 (Dense)              (None, 32)                4128      \n",
            "_________________________________________________________________\n",
            "dense_4 (Dense)              (None, 10)                330       \n",
            "=================================================================\n",
            "Total params: 38,949\n",
            "Trainable params: 38,949\n",
            "Non-trainable params: 0\n",
            "_________________________________________________________________\n"
          ],
          "name": "stdout"
        }
      ]
    },
    {
      "cell_type": "markdown",
      "metadata": {
        "id": "6Cz7Yibq13tk",
        "colab_type": "text"
      },
      "source": [
        "Visualización del modelo"
      ]
    },
    {
      "cell_type": "code",
      "metadata": {
        "id": "kS6mo2rv13tl",
        "colab_type": "code",
        "colab": {},
        "outputId": "8cf3a69d-6ec9-4171-ae75-823a6cb4197e"
      },
      "source": [
        "from keras.utils import plot_model\n",
        "plot_model(model, show_shapes=True, to_file='deepthwise.png')\n",
        "from IPython.display import Image\n",
        "Image(retina=True, filename='deepthwise.png')"
      ],
      "execution_count": null,
      "outputs": [
        {
          "output_type": "execute_result",
          "data": {
            "image/png": "[encoded data removed]",
            "text/plain": [
              "<IPython.core.display.Image object>"
            ]
          },
          "metadata": {
            "tags": [],
            "image/png": {
              "height": 638,
              "width": 335
            }
          },
          "execution_count": 9
        }
      ]
    },
    {
      "cell_type": "markdown",
      "metadata": {
        "id": "rMS4D_EE13to",
        "colab_type": "text"
      },
      "source": [
        "## 04.3 -  Optimización de Hyperparametros"
      ]
    },
    {
      "cell_type": "markdown",
      "metadata": {
        "id": "BzrP1u1v13tp",
        "colab_type": "text"
      },
      "source": [
        "Hyperopt (https://github.com/hyperopt/hyperopt)"
      ]
    },
    {
      "cell_type": "markdown",
      "metadata": {
        "id": "rSvPibxw13tp",
        "colab_type": "text"
      },
      "source": [
        "Hyperas (https://github.com/maxpumperla/hyperas)\n",
        "integra Hyperopt para utilizar con los modelos de Keras"
      ]
    },
    {
      "cell_type": "markdown",
      "metadata": {
        "id": "4ISK5pqg13tq",
        "colab_type": "text"
      },
      "source": [
        "## 04.4 -  Ensamblado de modelos"
      ]
    },
    {
      "cell_type": "markdown",
      "metadata": {
        "id": "C6MkvMuL13tq",
        "colab_type": "text"
      },
      "source": [
        "Se basa en realiza un pooling de las predicciónde de diferentes modelos, con el fin de mejorar la predicción \n",
        "\n",
        "* Trabaja bajo el supuesto de que a diferentes modelos, entrenados de manera diferente, son mejores por distintas razones: cada modelo captira diferencias en la predicción de los datos, obteniendo parte de la verdad en cada uno de ellos."
      ]
    },
    {
      "cell_type": "markdown",
      "metadata": {
        "id": "No6JLsWw13tr",
        "colab_type": "text"
      },
      "source": [
        "Una manera de juntar la predicción es; promediando las predicciones.\n",
        "\n",
        "* Esto solo funciona si los clasificadore son casi igual de buenos"
      ]
    },
    {
      "cell_type": "code",
      "metadata": {
        "id": "6CsVDkXv13tr",
        "colab_type": "code",
        "colab": {}
      },
      "source": [
        "preds_a = model_a.predict(x_val)\n",
        "preds_b = model_b.predict(x_val)\n",
        "preds_c = model_c.predict(x_val)\n",
        "preds_d = model_d.predict(x_val)\n",
        "\n",
        "\n",
        "final_preds = 0.25 * (preds_a + preds_b + preds_c + preds_d)\n",
        "\n"
      ],
      "execution_count": null,
      "outputs": []
    },
    {
      "cell_type": "markdown",
      "metadata": {
        "id": "NdP2hJyj13ts",
        "colab_type": "text"
      },
      "source": [
        "Otra manera de ensamblarlos es con un promedio ponderado, donde los pesos se pueden aprender. A mejor el clasificador mayor peso"
      ]
    },
    {
      "cell_type": "code",
      "metadata": {
        "id": "vL8CSNDT13tt",
        "colab_type": "code",
        "colab": {}
      },
      "source": [
        "preds_a = model_a.predict(x_val)\n",
        "preds_b = model_b.predict(x_val)\n",
        "preds_c = model_c.predict(x_val)\n",
        "preds_d = model_d.predict(x_val)\n",
        "\n",
        "\n",
        "final_preds = 0.5 * preds_a + 0.25 * preds_b + 0.1 * preds_c + 0.15 * preds_d"
      ],
      "execution_count": null,
      "outputs": []
    },
    {
      "cell_type": "markdown",
      "metadata": {
        "id": "eqPiSw4j13tt",
        "colab_type": "text"
      },
      "source": [
        "La clave del ensamble es tener clasificadores moderadamente buenos, o buenos, pero que cada uno sea distinto entre si."
      ]
    },
    {
      "cell_type": "markdown",
      "metadata": {
        "id": "vhmhbAiH13tu",
        "colab_type": "text"
      },
      "source": [
        "### 4.2 Regularización  weight decay L1 (Lasso)  y L2 (Ridge)"
      ]
    },
    {
      "cell_type": "markdown",
      "metadata": {
        "id": "Zd2uhcWa13tu",
        "colab_type": "text"
      },
      "source": [
        "* Norma L1"
      ]
    },
    {
      "cell_type": "code",
      "metadata": {
        "id": "lRhPQieY13tu",
        "colab_type": "code",
        "colab": {}
      },
      "source": [
        "from tensorflow.keras import regularizers\n",
        "\n",
        "kernel_regularizer=regularizers.l1(0.001)\n",
        "\n",
        "# En el modelo\n",
        "\n",
        "model_input = Input(shape = (28*28,))\n",
        "x = Dense(16,  activation = \"relu\")(model_input)\n",
        "x = Dropout(x)(x)\n",
        "x = Dense(16, kernel_regularizer=regularizers.l1(0.001), activation = \"relu\")(x)\n",
        "model_output = Dense(10, activation =\"softmax\")(x)"
      ],
      "execution_count": null,
      "outputs": []
    },
    {
      "cell_type": "markdown",
      "metadata": {
        "id": "zk1V0tU113tx",
        "colab_type": "text"
      },
      "source": [
        "* Norma L2"
      ]
    },
    {
      "cell_type": "code",
      "metadata": {
        "id": "ym5OQjcQ13ty",
        "colab_type": "code",
        "colab": {}
      },
      "source": [
        "from keras import regularizers\n",
        "\n",
        "kernel_regularizer=regularizers.l2(0.001)\n",
        "\n",
        "# En el modelo\n",
        "\n",
        "model_input = Input(shape = (28*28,))\n",
        "x = Dense(16, kernel_regularizer=regularizers.l2(0.001), activation = \"relu\")(model_input)\n",
        "x = Dense(16, kernel_regularizer=regularizers.l2(0.001), activation = \"relu\")(x)\n",
        "model_output = Dense(10, activation =\"softmax\")(x)"
      ],
      "execution_count": null,
      "outputs": []
    },
    {
      "cell_type": "code",
      "metadata": {
        "id": "x6POZJ3z4Y3d",
        "colab_type": "code",
        "colab": {}
      },
      "source": [
        "from keras import regularizers\n",
        "\n",
        "kernel_regularizer=regularizers.l1_l2(0.001)\n",
        "\n",
        "# En el modelo\n",
        "\n",
        "model_input = Input(shape = (28*28,))\n",
        "x = Dense(16, kernel_regularizer=regularizers.l1_l2(0.001), activation = \"relu\")(model_input)\n",
        "x = Dense(16, kernel_regularizer=regularizers.l1_l2(0.001), activation = \"relu\")(x)\n",
        "model_output = Dense(10, activation =\"softmax\")(x)"
      ],
      "execution_count": null,
      "outputs": []
    },
    {
      "cell_type": "markdown",
      "metadata": {
        "id": "bhp-rMMK13t1",
        "colab_type": "text"
      },
      "source": [
        "### 4.3 Drop out"
      ]
    },
    {
      "cell_type": "code",
      "metadata": {
        "id": "gvRcjJ_q13t1",
        "colab_type": "code",
        "colab": {}
      },
      "source": [
        "from keras.layers import Dropout\n",
        "\n",
        "Dropout(.5)\n",
        "\n",
        "# En el modelo\n",
        "\n",
        "model_input = Input(shape = (28*28,))\n",
        "x = Dense(16,  activation = \"relu\")(model_input)\n",
        "x = Dropout(.5)(x)\n",
        "x = Dense(16,  activation = \"relu\")(x)\n",
        "x = Dropout(.5)(x)\n",
        "model_output = Dense(10, activation =\"softmax\")(x)\n",
        "\n"
      ],
      "execution_count": null,
      "outputs": []
    },
    {
      "cell_type": "markdown",
      "metadata": {
        "id": "Rk3LndbP13t3",
        "colab_type": "text"
      },
      "source": [
        "### Ejercicio 1. Regularización"
      ]
    },
    {
      "cell_type": "code",
      "metadata": {
        "id": "rKEYc2Nt13t4",
        "colab_type": "code",
        "colab": {
          "base_uri": "https://localhost:8080/",
          "height": 50
        },
        "outputId": "ebd0e838-25ed-4557-d940-5dc89d3e2f29"
      },
      "source": [
        "from tensorflow.keras.datasets import mnist\n",
        "(train_images, train_labels), (test_images, test_labels) = mnist.load_data()"
      ],
      "execution_count": null,
      "outputs": [
        {
          "output_type": "stream",
          "text": [
            "Downloading data from https://storage.googleapis.com/tensorflow/tf-keras-datasets/mnist.npz\n",
            "11493376/11490434 [==============================] - 0s 0us/step\n"
          ],
          "name": "stdout"
        }
      ]
    },
    {
      "cell_type": "code",
      "metadata": {
        "id": "OVUTJ8oj13t8",
        "colab_type": "code",
        "colab": {}
      },
      "source": [
        "train_images = train_images.reshape((60000, 28 * 28))\n",
        "train_images = train_images.astype('float32') / 255\n",
        "\n",
        "test_images = test_images.reshape((10000, 28 * 28))\n",
        "test_images = test_images.astype('float32') / 255"
      ],
      "execution_count": null,
      "outputs": []
    },
    {
      "cell_type": "code",
      "metadata": {
        "id": "oCGPPSkH13uA",
        "colab_type": "code",
        "colab": {}
      },
      "source": [
        "from tensorflow.keras.utils import to_categorical\n",
        "\n",
        "train_labels = to_categorical(train_labels)\n",
        "test_labels = to_categorical(test_labels)"
      ],
      "execution_count": null,
      "outputs": []
    },
    {
      "cell_type": "markdown",
      "metadata": {
        "id": "wTbLI6zq13uM",
        "colab_type": "text"
      },
      "source": [
        "### 1.1 - Regularización en los pesos con norma L1"
      ]
    },
    {
      "cell_type": "code",
      "metadata": {
        "id": "mAye8kAl13uN",
        "colab_type": "code",
        "colab": {
          "base_uri": "https://localhost:8080/",
          "height": 284
        },
        "outputId": "c88fd0d9-060b-4d9f-ee71-f6d70fa746f2"
      },
      "source": [
        "from tensorflow.keras import regularizers\n",
        "from tensorflow.keras import Input\n",
        "from tensorflow.keras.layers import Dense\n",
        "from tensorflow.keras import Model\n",
        "\n",
        "l1_model_input = Input(shape = (28*28,))\n",
        "x = Dense(16, kernel_regularizer=regularizers.l1(0.001), activation = \"relu\")(l1_model_input)\n",
        "x = Dense(16, kernel_regularizer=regularizers.l1(0.001), activation = \"relu\")(x)\n",
        "l1_model_output = Dense(10, activation =\"softmax\")(x)\n",
        "\n",
        "model_l1 = Model(l1_model_input, l1_model_output)\n",
        "\n",
        "model_l1.summary()\n",
        "\n",
        "\n",
        "model_l1.compile(optimizer='rmsprop',\n",
        "                loss='categorical_crossentropy',\n",
        "                metrics=['accuracy'])\n",
        "\n",
        "\n"
      ],
      "execution_count": null,
      "outputs": [
        {
          "output_type": "stream",
          "text": [
            "Model: \"functional_1\"\n",
            "_________________________________________________________________\n",
            "Layer (type)                 Output Shape              Param #   \n",
            "=================================================================\n",
            "input_1 (InputLayer)         [(None, 784)]             0         \n",
            "_________________________________________________________________\n",
            "dense (Dense)                (None, 16)                12560     \n",
            "_________________________________________________________________\n",
            "dense_1 (Dense)              (None, 16)                272       \n",
            "_________________________________________________________________\n",
            "dense_2 (Dense)              (None, 10)                170       \n",
            "=================================================================\n",
            "Total params: 13,002\n",
            "Trainable params: 13,002\n",
            "Non-trainable params: 0\n",
            "_________________________________________________________________\n"
          ],
          "name": "stdout"
        }
      ]
    },
    {
      "cell_type": "code",
      "metadata": {
        "id": "Ynj1qT9H13uS",
        "colab_type": "code",
        "colab": {
          "base_uri": "https://localhost:8080/",
          "height": 1000
        },
        "outputId": "811ec755-ae54-4347-a5cb-f11f89116405"
      },
      "source": [
        "import time\n",
        "tic=time.time()\n",
        "\n",
        "history_l1 = model_l1.fit(train_images, train_labels, epochs=50, batch_size=128, \n",
        "                 validation_split=0.2)\n",
        "print('Tiempo de procesamiento (secs): ', time.time()-tic)"
      ],
      "execution_count": null,
      "outputs": [
        {
          "output_type": "stream",
          "text": [
            "Epoch 1/50\n",
            "375/375 [==============================] - 1s 2ms/step - loss: 2.3071 - accuracy: 0.1140 - val_loss: 2.3081 - val_accuracy: 0.1060\n",
            "Epoch 2/50\n",
            "375/375 [==============================] - 1s 2ms/step - loss: 2.3071 - accuracy: 0.1140 - val_loss: 2.3081 - val_accuracy: 0.1060\n",
            "Epoch 3/50\n",
            "375/375 [==============================] - 1s 2ms/step - loss: 2.3071 - accuracy: 0.1140 - val_loss: 2.3079 - val_accuracy: 0.1060\n",
            "Epoch 4/50\n",
            "375/375 [==============================] - 1s 2ms/step - loss: 2.3071 - accuracy: 0.1140 - val_loss: 2.3080 - val_accuracy: 0.1060\n",
            "Epoch 5/50\n",
            "375/375 [==============================] - 1s 2ms/step - loss: 2.3071 - accuracy: 0.1140 - val_loss: 2.3082 - val_accuracy: 0.1060\n",
            "Epoch 6/50\n",
            "375/375 [==============================] - 1s 2ms/step - loss: 2.3071 - accuracy: 0.1140 - val_loss: 2.3081 - val_accuracy: 0.1060\n",
            "Epoch 7/50\n",
            "375/375 [==============================] - 1s 2ms/step - loss: 2.3071 - accuracy: 0.1140 - val_loss: 2.3080 - val_accuracy: 0.1060\n",
            "Epoch 8/50\n",
            "375/375 [==============================] - 1s 2ms/step - loss: 2.3071 - accuracy: 0.1140 - val_loss: 2.3081 - val_accuracy: 0.1060\n",
            "Epoch 9/50\n",
            "375/375 [==============================] - 1s 2ms/step - loss: 2.3071 - accuracy: 0.1140 - val_loss: 2.3080 - val_accuracy: 0.1060\n",
            "Epoch 10/50\n",
            "375/375 [==============================] - 1s 2ms/step - loss: 2.3071 - accuracy: 0.1140 - val_loss: 2.3081 - val_accuracy: 0.1060\n",
            "Epoch 11/50\n",
            "375/375 [==============================] - 1s 2ms/step - loss: 2.3071 - accuracy: 0.1140 - val_loss: 2.3080 - val_accuracy: 0.1060\n",
            "Epoch 12/50\n",
            "375/375 [==============================] - 1s 2ms/step - loss: 2.3071 - accuracy: 0.1140 - val_loss: 2.3080 - val_accuracy: 0.1060\n",
            "Epoch 13/50\n",
            "375/375 [==============================] - 1s 2ms/step - loss: 2.3071 - accuracy: 0.1140 - val_loss: 2.3082 - val_accuracy: 0.1060\n",
            "Epoch 14/50\n",
            "375/375 [==============================] - 1s 2ms/step - loss: 2.3071 - accuracy: 0.1140 - val_loss: 2.3081 - val_accuracy: 0.1060\n",
            "Epoch 15/50\n",
            "375/375 [==============================] - 1s 2ms/step - loss: 2.3071 - accuracy: 0.1140 - val_loss: 2.3082 - val_accuracy: 0.1060\n",
            "Epoch 16/50\n",
            "375/375 [==============================] - 1s 2ms/step - loss: 2.3071 - accuracy: 0.1140 - val_loss: 2.3084 - val_accuracy: 0.1060\n",
            "Epoch 17/50\n",
            "375/375 [==============================] - 1s 2ms/step - loss: 2.3071 - accuracy: 0.1140 - val_loss: 2.3082 - val_accuracy: 0.1060\n",
            "Epoch 18/50\n",
            "375/375 [==============================] - 1s 2ms/step - loss: 2.3071 - accuracy: 0.1140 - val_loss: 2.3082 - val_accuracy: 0.1060\n",
            "Epoch 19/50\n",
            "375/375 [==============================] - 1s 2ms/step - loss: 2.3071 - accuracy: 0.1140 - val_loss: 2.3081 - val_accuracy: 0.1060\n",
            "Epoch 20/50\n",
            "375/375 [==============================] - 1s 2ms/step - loss: 2.3071 - accuracy: 0.1140 - val_loss: 2.3081 - val_accuracy: 0.1060\n",
            "Epoch 21/50\n",
            "375/375 [==============================] - 1s 2ms/step - loss: 2.3071 - accuracy: 0.1140 - val_loss: 2.3081 - val_accuracy: 0.1060\n",
            "Epoch 22/50\n",
            "375/375 [==============================] - 1s 2ms/step - loss: 2.3071 - accuracy: 0.1140 - val_loss: 2.3081 - val_accuracy: 0.1060\n",
            "Epoch 23/50\n",
            "375/375 [==============================] - 1s 2ms/step - loss: 2.3071 - accuracy: 0.1140 - val_loss: 2.3081 - val_accuracy: 0.1060\n",
            "Epoch 24/50\n",
            "375/375 [==============================] - 1s 2ms/step - loss: 2.3071 - accuracy: 0.1140 - val_loss: 2.3081 - val_accuracy: 0.1060\n",
            "Epoch 25/50\n",
            "375/375 [==============================] - 1s 2ms/step - loss: 2.3071 - accuracy: 0.1140 - val_loss: 2.3081 - val_accuracy: 0.1060\n",
            "Epoch 26/50\n",
            "375/375 [==============================] - 1s 2ms/step - loss: 2.3071 - accuracy: 0.1140 - val_loss: 2.3081 - val_accuracy: 0.1060\n",
            "Epoch 27/50\n",
            "375/375 [==============================] - 1s 2ms/step - loss: 2.3071 - accuracy: 0.1140 - val_loss: 2.3080 - val_accuracy: 0.1060\n",
            "Epoch 28/50\n",
            "375/375 [==============================] - 1s 2ms/step - loss: 2.3071 - accuracy: 0.1140 - val_loss: 2.3081 - val_accuracy: 0.1060\n",
            "Epoch 29/50\n",
            "375/375 [==============================] - 1s 2ms/step - loss: 2.3071 - accuracy: 0.1140 - val_loss: 2.3082 - val_accuracy: 0.1060\n",
            "Epoch 30/50\n",
            "375/375 [==============================] - 1s 2ms/step - loss: 2.3071 - accuracy: 0.1140 - val_loss: 2.3082 - val_accuracy: 0.1060\n",
            "Epoch 31/50\n",
            "375/375 [==============================] - 1s 2ms/step - loss: 2.3071 - accuracy: 0.1140 - val_loss: 2.3081 - val_accuracy: 0.1060\n",
            "Epoch 32/50\n",
            "375/375 [==============================] - 1s 2ms/step - loss: 2.3071 - accuracy: 0.1140 - val_loss: 2.3082 - val_accuracy: 0.1060\n",
            "Epoch 33/50\n",
            "375/375 [==============================] - 1s 2ms/step - loss: 2.3071 - accuracy: 0.1140 - val_loss: 2.3082 - val_accuracy: 0.1060\n",
            "Epoch 34/50\n",
            "375/375 [==============================] - 1s 2ms/step - loss: 2.3071 - accuracy: 0.1140 - val_loss: 2.3082 - val_accuracy: 0.1060\n",
            "Epoch 35/50\n",
            "375/375 [==============================] - 1s 2ms/step - loss: 2.3070 - accuracy: 0.1140 - val_loss: 2.3082 - val_accuracy: 0.1060\n",
            "Epoch 36/50\n",
            "375/375 [==============================] - 1s 2ms/step - loss: 2.3071 - accuracy: 0.1140 - val_loss: 2.3082 - val_accuracy: 0.1060\n",
            "Epoch 37/50\n",
            "375/375 [==============================] - 1s 2ms/step - loss: 2.3071 - accuracy: 0.1140 - val_loss: 2.3082 - val_accuracy: 0.1060\n",
            "Epoch 38/50\n",
            "375/375 [==============================] - 1s 2ms/step - loss: 2.3070 - accuracy: 0.1140 - val_loss: 2.3082 - val_accuracy: 0.1060\n",
            "Epoch 39/50\n",
            "375/375 [==============================] - 1s 2ms/step - loss: 2.3071 - accuracy: 0.1140 - val_loss: 2.3081 - val_accuracy: 0.1060\n",
            "Epoch 40/50\n",
            "375/375 [==============================] - 1s 2ms/step - loss: 2.3071 - accuracy: 0.1140 - val_loss: 2.3082 - val_accuracy: 0.1060\n",
            "Epoch 41/50\n",
            "375/375 [==============================] - 1s 2ms/step - loss: 2.3070 - accuracy: 0.1140 - val_loss: 2.3082 - val_accuracy: 0.1060\n",
            "Epoch 42/50\n",
            "375/375 [==============================] - 1s 2ms/step - loss: 2.3071 - accuracy: 0.1140 - val_loss: 2.3082 - val_accuracy: 0.1060\n",
            "Epoch 43/50\n",
            "375/375 [==============================] - 1s 2ms/step - loss: 2.3071 - accuracy: 0.1140 - val_loss: 2.3080 - val_accuracy: 0.1060\n",
            "Epoch 44/50\n",
            "375/375 [==============================] - 1s 2ms/step - loss: 2.3071 - accuracy: 0.1140 - val_loss: 2.3082 - val_accuracy: 0.1060\n",
            "Epoch 45/50\n",
            "375/375 [==============================] - 1s 2ms/step - loss: 2.3071 - accuracy: 0.1140 - val_loss: 2.3081 - val_accuracy: 0.1060\n",
            "Epoch 46/50\n",
            "375/375 [==============================] - 1s 2ms/step - loss: 2.3071 - accuracy: 0.1140 - val_loss: 2.3081 - val_accuracy: 0.1060\n",
            "Epoch 47/50\n",
            "375/375 [==============================] - 1s 2ms/step - loss: 2.3071 - accuracy: 0.1140 - val_loss: 2.3081 - val_accuracy: 0.1060\n",
            "Epoch 48/50\n",
            "375/375 [==============================] - 1s 2ms/step - loss: 2.3071 - accuracy: 0.1140 - val_loss: 2.3081 - val_accuracy: 0.1060\n",
            "Epoch 49/50\n",
            "375/375 [==============================] - 1s 2ms/step - loss: 2.3071 - accuracy: 0.1140 - val_loss: 2.3081 - val_accuracy: 0.1060\n",
            "Epoch 50/50\n",
            "375/375 [==============================] - 1s 2ms/step - loss: 2.3071 - accuracy: 0.1140 - val_loss: 2.3082 - val_accuracy: 0.1060\n",
            "Tiempo de procesamiento (secs):  40.513676404953\n"
          ],
          "name": "stdout"
        }
      ]
    },
    {
      "cell_type": "code",
      "metadata": {
        "id": "_p286QqI13ua",
        "colab_type": "code",
        "colab": {
          "base_uri": "https://localhost:8080/",
          "height": 295
        },
        "outputId": "b7d59f9f-97c5-4a59-b44c-853096c56a96"
      },
      "source": [
        "import matplotlib.pyplot as plt\n",
        "\n",
        "\n",
        "loss = history_l1.history['loss']\n",
        "val_loss = history_l1.history['val_loss']\n",
        "\n",
        "epochs = range(1, len(loss) + 1)\n",
        "\n",
        "# \"bo\" is for \"blue dot\"\n",
        "plt.plot(epochs, loss, 'bo', label='Training loss')\n",
        "# b is for \"solid blue line\"\n",
        "plt.plot(epochs, val_loss, 'b', label='Validation loss')\n",
        "plt.title('Training and validation loss')\n",
        "plt.xlabel('Epochs')\n",
        "plt.ylabel('Loss')\n",
        "plt.legend()\n",
        "\n",
        "plt.show()"
      ],
      "execution_count": null,
      "outputs": [
        {
          "output_type": "display_data",
          "data": {
            "image/png": "[encoded data removed]",
            "text/plain": [
              "<Figure size 432x288 with 1 Axes>"
            ]
          },
          "metadata": {
            "tags": [],
            "needs_background": "light"
          }
        }
      ]
    },
    {
      "cell_type": "code",
      "metadata": {
        "id": "8-gVUZBp13uh",
        "colab_type": "code",
        "colab": {
          "base_uri": "https://localhost:8080/",
          "height": 52
        },
        "outputId": "542c3893-3a30-4bf5-d78f-7eae2ab1b878"
      },
      "source": [
        "test_loss, test_acc = model_l1.evaluate(test_images, test_labels)\n",
        "print('test_acc:', test_acc)"
      ],
      "execution_count": null,
      "outputs": [
        {
          "output_type": "stream",
          "text": [
            "313/313 [==============================] - 0s 1ms/step - loss: 0.5158 - accuracy: 0.9180\n",
            "test_acc: 0.9179999828338623\n"
          ],
          "name": "stdout"
        }
      ]
    },
    {
      "cell_type": "markdown",
      "metadata": {
        "id": "W1BHZSWr13uk",
        "colab_type": "text"
      },
      "source": [
        "### 1.2 - Regularización en los pesos con norma L2"
      ]
    },
    {
      "cell_type": "code",
      "metadata": {
        "id": "Wi7skkBh13uk",
        "colab_type": "code",
        "colab": {
          "base_uri": "https://localhost:8080/",
          "height": 295
        },
        "outputId": "d3152bfa-c66f-4075-9ed6-063afb356989"
      },
      "source": [
        "l2_model_input = Input(shape = (28*28,))\n",
        "x = Dense(16, kernel_regularizer=regularizers.l2(0.001), activation = \"relu\")(l2_model_input)\n",
        "x = Dense(16, kernel_regularizer=regularizers.l2(0.001), activation = \"relu\")(x)\n",
        "l2_model_output = Dense(10, activation =\"softmax\")(x)\n",
        "\n",
        "model_l2 = Model(l2_model_input, l2_model_output)\n",
        "\n",
        "model_l2.summary()\n",
        "\n",
        "\n",
        "model_l2.compile(optimizer='rmsprop',\n",
        "                loss='categorical_crossentropy',\n",
        "                metrics=['accuracy'])\n"
      ],
      "execution_count": null,
      "outputs": [
        {
          "output_type": "stream",
          "text": [
            "Model: \"functional_3\"\n",
            "_________________________________________________________________\n",
            "Layer (type)                 Output Shape              Param #   \n",
            "=================================================================\n",
            "input_2 (InputLayer)         [(None, 784)]             0         \n",
            "_________________________________________________________________\n",
            "dense_3 (Dense)              (None, 16)                12560     \n",
            "_________________________________________________________________\n",
            "dense_4 (Dense)              (None, 16)                272       \n",
            "_________________________________________________________________\n",
            "dense_5 (Dense)              (None, 10)                170       \n",
            "=================================================================\n",
            "Total params: 13,002\n",
            "Trainable params: 13,002\n",
            "Non-trainable params: 0\n",
            "_________________________________________________________________\n"
          ],
          "name": "stdout"
        }
      ]
    },
    {
      "cell_type": "code",
      "metadata": {
        "id": "_Hk7oo9_13uq",
        "colab_type": "code",
        "colab": {
          "base_uri": "https://localhost:8080/",
          "height": 208
        },
        "outputId": "34975145-11b5-4f12-af63-3b5065a93160"
      },
      "source": [
        "import time\n",
        "tic=time.time()\n",
        "\n",
        "history_l2 = model_l2.fit(train_images, train_labels, epochs=5, batch_size=128, \n",
        "                 validation_split=0.2)\n",
        "print('Tiempo de procesamiento (secs): ', time.time()-tic)"
      ],
      "execution_count": null,
      "outputs": [
        {
          "output_type": "stream",
          "text": [
            "Epoch 1/5\n",
            "375/375 [==============================] - 1s 3ms/step - loss: 0.7863 - accuracy: 0.7899 - val_loss: 0.4351 - val_accuracy: 0.8985\n",
            "Epoch 2/5\n",
            "375/375 [==============================] - 1s 2ms/step - loss: 0.4148 - accuracy: 0.9014 - val_loss: 0.3612 - val_accuracy: 0.9172\n",
            "Epoch 3/5\n",
            "375/375 [==============================] - 1s 2ms/step - loss: 0.3624 - accuracy: 0.9166 - val_loss: 0.3443 - val_accuracy: 0.9219\n",
            "Epoch 4/5\n",
            "375/375 [==============================] - 1s 2ms/step - loss: 0.3348 - accuracy: 0.9230 - val_loss: 0.3151 - val_accuracy: 0.9313\n",
            "Epoch 5/5\n",
            "375/375 [==============================] - 1s 2ms/step - loss: 0.3159 - accuracy: 0.9286 - val_loss: 0.3016 - val_accuracy: 0.9337\n",
            "Tiempo de procesamiento (secs):  5.498869180679321\n"
          ],
          "name": "stdout"
        }
      ]
    },
    {
      "cell_type": "code",
      "metadata": {
        "id": "N7z6ODLP13uv",
        "colab_type": "code",
        "colab": {
          "base_uri": "https://localhost:8080/",
          "height": 295
        },
        "outputId": "07656874-04ec-4872-edbe-174a9c8e7e54"
      },
      "source": [
        "loss = history_l2.history['loss']\n",
        "val_loss = history_l2.history['val_loss']\n",
        "\n",
        "epochs = range(1, len(loss) + 1)\n",
        "\n",
        "# \"bo\" is for \"blue dot\"\n",
        "plt.plot(epochs, loss, 'bo', label='Training loss')\n",
        "# b is for \"solid blue line\"\n",
        "plt.plot(epochs, val_loss, 'b', label='Validation loss')\n",
        "plt.title('Training and validation loss')\n",
        "plt.xlabel('Epochs')\n",
        "plt.ylabel('Loss')\n",
        "plt.legend()\n",
        "\n",
        "plt.show()"
      ],
      "execution_count": null,
      "outputs": [
        {
          "output_type": "display_data",
          "data": {
            "image/png": "[encoded data removed]",
            "text/plain": [
              "<Figure size 432x288 with 1 Axes>"
            ]
          },
          "metadata": {
            "tags": [],
            "needs_background": "light"
          }
        }
      ]
    },
    {
      "cell_type": "code",
      "metadata": {
        "id": "o9FrfLyk13uy",
        "colab_type": "code",
        "colab": {
          "base_uri": "https://localhost:8080/",
          "height": 52
        },
        "outputId": "5ebc1850-ffab-425c-b1e6-4f08a87529d3"
      },
      "source": [
        "test_loss, test_acc = model_l2.evaluate(test_images, test_labels)\n",
        "print('test_acc:', test_acc)"
      ],
      "execution_count": null,
      "outputs": [
        {
          "output_type": "stream",
          "text": [
            "313/313 [==============================] - 0s 1ms/step - loss: 0.3043 - accuracy: 0.9310\n",
            "test_acc: 0.9309999942779541\n"
          ],
          "name": "stdout"
        }
      ]
    },
    {
      "cell_type": "markdown",
      "metadata": {
        "id": "xTr9krR013u2",
        "colab_type": "text"
      },
      "source": [
        "### 1.3 Regularización Drop out"
      ]
    },
    {
      "cell_type": "code",
      "metadata": {
        "id": "kQdFeA_U13u3",
        "colab_type": "code",
        "colab": {
          "base_uri": "https://localhost:8080/",
          "height": 1000
        },
        "outputId": "d1442d6a-7a4e-48f5-e842-169a0d480c26"
      },
      "source": [
        "from tensorflow.keras.layers import Dropout\n",
        "\n",
        "model_dropOut_in = Input(shape = (28*28,))\n",
        "x = Dense(16,  activation = \"relu\")(model_dropOut_in)\n",
        "x = Dropout(.5)(x)\n",
        "x = Dense(16,  activation = \"relu\")(x)\n",
        "x = Dropout(.5)(x)\n",
        "lmodel_dropOut_out = Dense(10, activation =\"softmax\")(x)\n",
        "\n",
        "model_dropOut = Model(model_dropOut_in, lmodel_dropOut_out)\n",
        "\n",
        "model_dropOut.summary()\n",
        "\n",
        "\n",
        "model_dropOut.compile(optimizer='rmsprop',\n",
        "                loss='categorical_crossentropy',\n",
        "                metrics=['accuracy'])\n",
        "\n",
        "\n",
        "import time\n",
        "tic=time.time()\n",
        "\n",
        "history_dropOut = model_dropOut.fit(train_images, train_labels, epochs=50, batch_size=128, \n",
        "                 validation_split=0.2)\n",
        "print('Tiempo de procesamiento (secs): ', time.time()-tic)"
      ],
      "execution_count": null,
      "outputs": [
        {
          "output_type": "stream",
          "text": [
            "Model: \"functional_5\"\n",
            "_________________________________________________________________\n",
            "Layer (type)                 Output Shape              Param #   \n",
            "=================================================================\n",
            "input_3 (InputLayer)         [(None, 784)]             0         \n",
            "_________________________________________________________________\n",
            "dense_6 (Dense)              (None, 16)                12560     \n",
            "_________________________________________________________________\n",
            "dropout_2 (Dropout)          (None, 16)                0         \n",
            "_________________________________________________________________\n",
            "dense_7 (Dense)              (None, 16)                272       \n",
            "_________________________________________________________________\n",
            "dropout_3 (Dropout)          (None, 16)                0         \n",
            "_________________________________________________________________\n",
            "dense_8 (Dense)              (None, 10)                170       \n",
            "=================================================================\n",
            "Total params: 13,002\n",
            "Trainable params: 13,002\n",
            "Non-trainable params: 0\n",
            "_________________________________________________________________\n",
            "Epoch 1/50\n",
            "375/375 [==============================] - 1s 2ms/step - loss: 2.2484 - accuracy: 0.1865 - val_loss: 2.1035 - val_accuracy: 0.3311\n",
            "Epoch 2/50\n",
            "375/375 [==============================] - 1s 2ms/step - loss: 2.0130 - accuracy: 0.2474 - val_loss: 1.7765 - val_accuracy: 0.4255\n",
            "Epoch 3/50\n",
            "375/375 [==============================] - 1s 2ms/step - loss: 1.8493 - accuracy: 0.2889 - val_loss: 1.6030 - val_accuracy: 0.5178\n",
            "Epoch 4/50\n",
            "375/375 [==============================] - 1s 2ms/step - loss: 1.7450 - accuracy: 0.3333 - val_loss: 1.4740 - val_accuracy: 0.6037\n",
            "Epoch 5/50\n",
            "375/375 [==============================] - 1s 2ms/step - loss: 1.6730 - accuracy: 0.3719 - val_loss: 1.3712 - val_accuracy: 0.6405\n",
            "Epoch 6/50\n",
            "375/375 [==============================] - 1s 2ms/step - loss: 1.6188 - accuracy: 0.4005 - val_loss: 1.2915 - val_accuracy: 0.6580\n",
            "Epoch 7/50\n",
            "375/375 [==============================] - 1s 2ms/step - loss: 1.5758 - accuracy: 0.4234 - val_loss: 1.2328 - val_accuracy: 0.6737\n",
            "Epoch 8/50\n",
            "375/375 [==============================] - 1s 2ms/step - loss: 1.5437 - accuracy: 0.4424 - val_loss: 1.1901 - val_accuracy: 0.6820\n",
            "Epoch 9/50\n",
            "375/375 [==============================] - 1s 2ms/step - loss: 1.5084 - accuracy: 0.4574 - val_loss: 1.1396 - val_accuracy: 0.7003\n",
            "Epoch 10/50\n",
            "375/375 [==============================] - 1s 2ms/step - loss: 1.4813 - accuracy: 0.4687 - val_loss: 1.1024 - val_accuracy: 0.7042\n",
            "Epoch 11/50\n",
            "375/375 [==============================] - 1s 2ms/step - loss: 1.4546 - accuracy: 0.4773 - val_loss: 1.0695 - val_accuracy: 0.7198\n",
            "Epoch 12/50\n",
            "375/375 [==============================] - 1s 2ms/step - loss: 1.4355 - accuracy: 0.4838 - val_loss: 1.0446 - val_accuracy: 0.7317\n",
            "Epoch 13/50\n",
            "375/375 [==============================] - 1s 2ms/step - loss: 1.4120 - accuracy: 0.4934 - val_loss: 1.0208 - val_accuracy: 0.7327\n",
            "Epoch 14/50\n",
            "375/375 [==============================] - 1s 2ms/step - loss: 1.4016 - accuracy: 0.4967 - val_loss: 0.9984 - val_accuracy: 0.7442\n",
            "Epoch 15/50\n",
            "375/375 [==============================] - 1s 2ms/step - loss: 1.3952 - accuracy: 0.5017 - val_loss: 0.9833 - val_accuracy: 0.7448\n",
            "Epoch 16/50\n",
            "375/375 [==============================] - 1s 2ms/step - loss: 1.3861 - accuracy: 0.5051 - val_loss: 0.9766 - val_accuracy: 0.7518\n",
            "Epoch 17/50\n",
            "375/375 [==============================] - 1s 2ms/step - loss: 1.3780 - accuracy: 0.5085 - val_loss: 0.9648 - val_accuracy: 0.7532\n",
            "Epoch 18/50\n",
            "375/375 [==============================] - 1s 2ms/step - loss: 1.3646 - accuracy: 0.5149 - val_loss: 0.9476 - val_accuracy: 0.7629\n",
            "Epoch 19/50\n",
            "375/375 [==============================] - 1s 2ms/step - loss: 1.3624 - accuracy: 0.5165 - val_loss: 0.9411 - val_accuracy: 0.7662\n",
            "Epoch 20/50\n",
            "375/375 [==============================] - 1s 2ms/step - loss: 1.3593 - accuracy: 0.5201 - val_loss: 0.9347 - val_accuracy: 0.7659\n",
            "Epoch 21/50\n",
            "375/375 [==============================] - 1s 2ms/step - loss: 1.3509 - accuracy: 0.5225 - val_loss: 0.9367 - val_accuracy: 0.7651\n",
            "Epoch 22/50\n",
            "375/375 [==============================] - 1s 2ms/step - loss: 1.3404 - accuracy: 0.5296 - val_loss: 0.9168 - val_accuracy: 0.7687\n",
            "Epoch 23/50\n",
            "375/375 [==============================] - 1s 2ms/step - loss: 1.3475 - accuracy: 0.5273 - val_loss: 0.9144 - val_accuracy: 0.7758\n",
            "Epoch 24/50\n",
            "375/375 [==============================] - 1s 2ms/step - loss: 1.3486 - accuracy: 0.5278 - val_loss: 0.9073 - val_accuracy: 0.7766\n",
            "Epoch 25/50\n",
            "375/375 [==============================] - 1s 2ms/step - loss: 1.3369 - accuracy: 0.5322 - val_loss: 0.9051 - val_accuracy: 0.7797\n",
            "Epoch 26/50\n",
            "375/375 [==============================] - 1s 2ms/step - loss: 1.3336 - accuracy: 0.5359 - val_loss: 0.8938 - val_accuracy: 0.7816\n",
            "Epoch 27/50\n",
            "375/375 [==============================] - 1s 2ms/step - loss: 1.3203 - accuracy: 0.5425 - val_loss: 0.8879 - val_accuracy: 0.7853\n",
            "Epoch 28/50\n",
            "375/375 [==============================] - 1s 2ms/step - loss: 1.3338 - accuracy: 0.5376 - val_loss: 0.8887 - val_accuracy: 0.7846\n",
            "Epoch 29/50\n",
            "375/375 [==============================] - 1s 2ms/step - loss: 1.3303 - accuracy: 0.5392 - val_loss: 0.8774 - val_accuracy: 0.7926\n",
            "Epoch 30/50\n",
            "375/375 [==============================] - 1s 2ms/step - loss: 1.3296 - accuracy: 0.5399 - val_loss: 0.8791 - val_accuracy: 0.7893\n",
            "Epoch 31/50\n",
            "375/375 [==============================] - 1s 2ms/step - loss: 1.3279 - accuracy: 0.5446 - val_loss: 0.8733 - val_accuracy: 0.7912\n",
            "Epoch 32/50\n",
            "375/375 [==============================] - 1s 2ms/step - loss: 1.3166 - accuracy: 0.5440 - val_loss: 0.8693 - val_accuracy: 0.7955\n",
            "Epoch 33/50\n",
            "375/375 [==============================] - 1s 2ms/step - loss: 1.3160 - accuracy: 0.5488 - val_loss: 0.8717 - val_accuracy: 0.7894\n",
            "Epoch 34/50\n",
            "375/375 [==============================] - 1s 2ms/step - loss: 1.3257 - accuracy: 0.5451 - val_loss: 0.8646 - val_accuracy: 0.7998\n",
            "Epoch 35/50\n",
            "375/375 [==============================] - 1s 2ms/step - loss: 1.3160 - accuracy: 0.5462 - val_loss: 0.8612 - val_accuracy: 0.7990\n",
            "Epoch 36/50\n",
            "375/375 [==============================] - 1s 2ms/step - loss: 1.3185 - accuracy: 0.5472 - val_loss: 0.8595 - val_accuracy: 0.7952\n",
            "Epoch 37/50\n",
            "375/375 [==============================] - 1s 2ms/step - loss: 1.3134 - accuracy: 0.5517 - val_loss: 0.8563 - val_accuracy: 0.7968\n",
            "Epoch 38/50\n",
            "375/375 [==============================] - 1s 2ms/step - loss: 1.3102 - accuracy: 0.5503 - val_loss: 0.8546 - val_accuracy: 0.7994\n",
            "Epoch 39/50\n",
            "375/375 [==============================] - 1s 2ms/step - loss: 1.3161 - accuracy: 0.5515 - val_loss: 0.8664 - val_accuracy: 0.7838\n",
            "Epoch 40/50\n",
            "375/375 [==============================] - 1s 2ms/step - loss: 1.3065 - accuracy: 0.5531 - val_loss: 0.8560 - val_accuracy: 0.7928\n",
            "Epoch 41/50\n",
            "375/375 [==============================] - 1s 2ms/step - loss: 1.3094 - accuracy: 0.5539 - val_loss: 0.8521 - val_accuracy: 0.7928\n",
            "Epoch 42/50\n",
            "375/375 [==============================] - 1s 2ms/step - loss: 1.3109 - accuracy: 0.5512 - val_loss: 0.8478 - val_accuracy: 0.8031\n",
            "Epoch 43/50\n",
            "375/375 [==============================] - 1s 2ms/step - loss: 1.3139 - accuracy: 0.5549 - val_loss: 0.8431 - val_accuracy: 0.8043\n",
            "Epoch 44/50\n",
            "375/375 [==============================] - 1s 2ms/step - loss: 1.3035 - accuracy: 0.5565 - val_loss: 0.8394 - val_accuracy: 0.8037\n",
            "Epoch 45/50\n",
            "375/375 [==============================] - 1s 2ms/step - loss: 1.3125 - accuracy: 0.5556 - val_loss: 0.8440 - val_accuracy: 0.7986\n",
            "Epoch 46/50\n",
            "375/375 [==============================] - 1s 2ms/step - loss: 1.3050 - accuracy: 0.5556 - val_loss: 0.8380 - val_accuracy: 0.7967\n",
            "Epoch 47/50\n",
            "375/375 [==============================] - 1s 2ms/step - loss: 1.3032 - accuracy: 0.5596 - val_loss: 0.8383 - val_accuracy: 0.7983\n",
            "Epoch 48/50\n",
            "375/375 [==============================] - 1s 2ms/step - loss: 1.3026 - accuracy: 0.5574 - val_loss: 0.8401 - val_accuracy: 0.8000\n",
            "Epoch 49/50\n",
            "375/375 [==============================] - 1s 2ms/step - loss: 1.3080 - accuracy: 0.5581 - val_loss: 0.8341 - val_accuracy: 0.8026\n",
            "Epoch 50/50\n",
            "375/375 [==============================] - 1s 2ms/step - loss: 1.3016 - accuracy: 0.5577 - val_loss: 0.8325 - val_accuracy: 0.8048\n",
            "Tiempo de procesamiento (secs):  41.50531816482544\n"
          ],
          "name": "stdout"
        }
      ]
    },
    {
      "cell_type": "code",
      "metadata": {
        "id": "at0v6HIb13u-",
        "colab_type": "code",
        "colab": {
          "base_uri": "https://localhost:8080/",
          "height": 295
        },
        "outputId": "c132eee4-6c75-4fa4-a083-ceedb2a1d69a"
      },
      "source": [
        "loss = history_dropOut.history['loss']\n",
        "val_loss = history_dropOut.history['val_loss']\n",
        "\n",
        "epochs = range(1, len(loss) + 1)\n",
        "\n",
        "# \"bo\" is for \"blue dot\"\n",
        "plt.plot(epochs, loss, 'bo', label='Training loss')\n",
        "# b is for \"solid blue line\"\n",
        "plt.plot(epochs, val_loss, 'b', label='Validation loss')\n",
        "plt.title('Training and validation loss')\n",
        "plt.xlabel('Epochs')\n",
        "plt.ylabel('Loss')\n",
        "plt.legend()\n",
        "\n",
        "plt.show()"
      ],
      "execution_count": null,
      "outputs": [
        {
          "output_type": "display_data",
          "data": {
            "image/png": "[encoded data removed]",
            "text/plain": [
              "<Figure size 432x288 with 1 Axes>"
            ]
          },
          "metadata": {
            "tags": [],
            "needs_background": "light"
          }
        }
      ]
    },
    {
      "cell_type": "code",
      "metadata": {
        "id": "UZ3JJie913vB",
        "colab_type": "code",
        "colab": {
          "base_uri": "https://localhost:8080/",
          "height": 50
        },
        "outputId": "bef83a6a-4512-458c-fa2e-75b3954a3e54"
      },
      "source": [
        "test_loss, test_acc = model_dropOut.evaluate(test_images, test_labels)\n",
        "print('test_acc:', test_acc)"
      ],
      "execution_count": null,
      "outputs": [
        {
          "output_type": "stream",
          "text": [
            "313/313 [==============================] - 0s 899us/step - loss: 0.8500 - accuracy: 0.8024\n",
            "test_acc: 0.8023999929428101\n"
          ],
          "name": "stdout"
        }
      ]
    },
    {
      "cell_type": "markdown",
      "metadata": {
        "id": "MQcqc6M513vb",
        "colab_type": "text"
      },
      "source": [
        "### 1.4 Callbacks Early stopping"
      ]
    },
    {
      "cell_type": "code",
      "metadata": {
        "id": "mW1bXVnp13vb",
        "colab_type": "code",
        "colab": {
          "base_uri": "https://localhost:8080/",
          "height": 284
        },
        "outputId": "5646ebff-d194-4167-f507-9a4c8afc8c82"
      },
      "source": [
        "from tensorflow.keras.layers import Dropout\n",
        "\n",
        "entrada = Input(shape = (28*28,))\n",
        "x = Dense(16,  activation = \"relu\")(entrada)\n",
        "x = Dense(16,  activation = \"relu\")(x)\n",
        "salida = Dense(10, activation =\"softmax\")(x)\n",
        "\n",
        "modelo = Model(entrada, salida)\n",
        "\n",
        "modelo.summary()\n",
        "\n",
        "\n"
      ],
      "execution_count": null,
      "outputs": [
        {
          "output_type": "stream",
          "text": [
            "Model: \"functional_7\"\n",
            "_________________________________________________________________\n",
            "Layer (type)                 Output Shape              Param #   \n",
            "=================================================================\n",
            "input_4 (InputLayer)         [(None, 784)]             0         \n",
            "_________________________________________________________________\n",
            "dense_9 (Dense)              (None, 16)                12560     \n",
            "_________________________________________________________________\n",
            "dense_10 (Dense)             (None, 16)                272       \n",
            "_________________________________________________________________\n",
            "dense_11 (Dense)             (None, 10)                170       \n",
            "=================================================================\n",
            "Total params: 13,002\n",
            "Trainable params: 13,002\n",
            "Non-trainable params: 0\n",
            "_________________________________________________________________\n"
          ],
          "name": "stdout"
        }
      ]
    },
    {
      "cell_type": "code",
      "metadata": {
        "id": "mophNQn613ve",
        "colab_type": "code",
        "colab": {
          "base_uri": "https://localhost:8080/",
          "height": 1000
        },
        "outputId": "84724aba-d832-4661-d758-53d1d77dec81"
      },
      "source": [
        "import time\n",
        "import tensorflow as tf\n",
        "\n",
        "callbacks_list = [ tf.keras.callbacks.EarlyStopping( monitor='acc', patience=1,),                 \n",
        "                  tf.keras.callbacks.ModelCheckpoint(filepath='my_model.h5', monitor='val_loss', save_best_only=True,)] \n",
        "\n",
        "modelo.compile(optimizer='rmsprop', loss='binary_crossentropy', metrics=['acc'])\n",
        "\n",
        "\n",
        "tic=time.time()\n",
        "\n",
        "historia = modelo.fit(train_images, train_labels, epochs=75, batch_size=128, callbacks=callbacks_list, validation_split=0.2 )\n",
        "\n",
        "print('Tiempo de procesamiento (secs): ', time.time()-tic)"
      ],
      "execution_count": null,
      "outputs": [
        {
          "output_type": "stream",
          "text": [
            "Epoch 1/75\n",
            "375/375 [==============================] - 1s 3ms/step - loss: 0.3136 - acc: 0.2671 - val_loss: 0.2925 - val_acc: 0.3193\n",
            "Epoch 2/75\n",
            "375/375 [==============================] - 1s 2ms/step - loss: 0.2677 - acc: 0.3365 - val_loss: 0.2441 - val_acc: 0.4092\n",
            "Epoch 3/75\n",
            "375/375 [==============================] - 1s 2ms/step - loss: 0.2278 - acc: 0.5164 - val_loss: 0.2091 - val_acc: 0.5873\n",
            "Epoch 4/75\n",
            "375/375 [==============================] - 1s 2ms/step - loss: 0.1953 - acc: 0.6245 - val_loss: 0.1778 - val_acc: 0.6602\n",
            "Epoch 5/75\n",
            "375/375 [==============================] - 1s 2ms/step - loss: 0.1671 - acc: 0.6809 - val_loss: 0.1521 - val_acc: 0.7196\n",
            "Epoch 6/75\n",
            "375/375 [==============================] - 1s 2ms/step - loss: 0.1451 - acc: 0.7247 - val_loss: 0.1326 - val_acc: 0.7607\n",
            "Epoch 7/75\n",
            "375/375 [==============================] - 1s 2ms/step - loss: 0.1276 - acc: 0.7622 - val_loss: 0.1173 - val_acc: 0.7881\n",
            "Epoch 8/75\n",
            "375/375 [==============================] - 1s 2ms/step - loss: 0.1142 - acc: 0.7850 - val_loss: 0.1055 - val_acc: 0.8075\n",
            "Epoch 9/75\n",
            "375/375 [==============================] - 1s 2ms/step - loss: 0.1050 - acc: 0.8016 - val_loss: 0.0988 - val_acc: 0.8203\n",
            "Epoch 10/75\n",
            "375/375 [==============================] - 1s 2ms/step - loss: 0.0985 - acc: 0.8154 - val_loss: 0.0921 - val_acc: 0.8337\n",
            "Epoch 11/75\n",
            "375/375 [==============================] - 1s 2ms/step - loss: 0.0935 - acc: 0.8269 - val_loss: 0.0879 - val_acc: 0.8424\n",
            "Epoch 12/75\n",
            "375/375 [==============================] - 1s 2ms/step - loss: 0.0893 - acc: 0.8359 - val_loss: 0.0838 - val_acc: 0.8515\n",
            "Epoch 13/75\n",
            "375/375 [==============================] - 1s 2ms/step - loss: 0.0857 - acc: 0.8454 - val_loss: 0.0806 - val_acc: 0.8592\n",
            "Epoch 14/75\n",
            "375/375 [==============================] - 1s 2ms/step - loss: 0.0826 - acc: 0.8526 - val_loss: 0.0780 - val_acc: 0.8639\n",
            "Epoch 15/75\n",
            "375/375 [==============================] - 1s 2ms/step - loss: 0.0799 - acc: 0.8582 - val_loss: 0.0755 - val_acc: 0.8689\n",
            "Epoch 16/75\n",
            "375/375 [==============================] - 1s 2ms/step - loss: 0.0775 - acc: 0.8637 - val_loss: 0.0732 - val_acc: 0.8743\n",
            "Epoch 17/75\n",
            "375/375 [==============================] - 1s 2ms/step - loss: 0.0754 - acc: 0.8685 - val_loss: 0.0712 - val_acc: 0.8786\n",
            "Epoch 18/75\n",
            "375/375 [==============================] - 1s 2ms/step - loss: 0.0736 - acc: 0.8721 - val_loss: 0.0698 - val_acc: 0.8821\n",
            "Epoch 19/75\n",
            "375/375 [==============================] - 1s 2ms/step - loss: 0.0721 - acc: 0.8742 - val_loss: 0.0685 - val_acc: 0.8840\n",
            "Epoch 20/75\n",
            "375/375 [==============================] - 1s 2ms/step - loss: 0.0707 - acc: 0.8766 - val_loss: 0.0673 - val_acc: 0.8855\n",
            "Epoch 21/75\n",
            "375/375 [==============================] - 1s 2ms/step - loss: 0.0694 - acc: 0.8800 - val_loss: 0.0660 - val_acc: 0.8870\n",
            "Epoch 22/75\n",
            "375/375 [==============================] - 1s 2ms/step - loss: 0.0682 - acc: 0.8815 - val_loss: 0.0650 - val_acc: 0.8865\n",
            "Epoch 23/75\n",
            "375/375 [==============================] - 1s 2ms/step - loss: 0.0672 - acc: 0.8841 - val_loss: 0.0640 - val_acc: 0.8906\n",
            "Epoch 24/75\n",
            "375/375 [==============================] - 1s 2ms/step - loss: 0.0661 - acc: 0.8861 - val_loss: 0.0631 - val_acc: 0.8914\n",
            "Epoch 25/75\n",
            "375/375 [==============================] - 1s 2ms/step - loss: 0.0651 - acc: 0.8881 - val_loss: 0.0621 - val_acc: 0.8920\n",
            "Epoch 26/75\n",
            "375/375 [==============================] - 1s 2ms/step - loss: 0.0641 - acc: 0.8902 - val_loss: 0.0610 - val_acc: 0.8933\n",
            "Epoch 27/75\n",
            "375/375 [==============================] - 1s 2ms/step - loss: 0.0631 - acc: 0.8918 - val_loss: 0.0599 - val_acc: 0.8956\n",
            "Epoch 28/75\n",
            "375/375 [==============================] - 1s 2ms/step - loss: 0.0620 - acc: 0.8935 - val_loss: 0.0589 - val_acc: 0.8973\n",
            "Epoch 29/75\n",
            "375/375 [==============================] - 1s 2ms/step - loss: 0.0610 - acc: 0.8956 - val_loss: 0.0579 - val_acc: 0.9000\n",
            "Epoch 30/75\n",
            "375/375 [==============================] - 1s 2ms/step - loss: 0.0599 - acc: 0.8981 - val_loss: 0.0569 - val_acc: 0.9023\n",
            "Epoch 31/75\n",
            "375/375 [==============================] - 1s 2ms/step - loss: 0.0590 - acc: 0.8990 - val_loss: 0.0563 - val_acc: 0.9025\n",
            "Epoch 32/75\n",
            "375/375 [==============================] - 1s 2ms/step - loss: 0.0580 - acc: 0.9018 - val_loss: 0.0550 - val_acc: 0.9053\n",
            "Epoch 33/75\n",
            "375/375 [==============================] - 1s 2ms/step - loss: 0.0571 - acc: 0.9027 - val_loss: 0.0543 - val_acc: 0.9062\n",
            "Epoch 34/75\n",
            "375/375 [==============================] - 1s 2ms/step - loss: 0.0562 - acc: 0.9035 - val_loss: 0.0534 - val_acc: 0.9078\n",
            "Epoch 35/75\n",
            "375/375 [==============================] - 1s 2ms/step - loss: 0.0554 - acc: 0.9055 - val_loss: 0.0527 - val_acc: 0.9100\n",
            "Epoch 36/75\n",
            "375/375 [==============================] - 1s 2ms/step - loss: 0.0546 - acc: 0.9070 - val_loss: 0.0520 - val_acc: 0.9098\n",
            "Epoch 37/75\n",
            "375/375 [==============================] - 1s 2ms/step - loss: 0.0539 - acc: 0.9079 - val_loss: 0.0514 - val_acc: 0.9106\n",
            "Epoch 38/75\n",
            "375/375 [==============================] - 1s 2ms/step - loss: 0.0532 - acc: 0.9092 - val_loss: 0.0511 - val_acc: 0.9117\n",
            "Epoch 39/75\n",
            "375/375 [==============================] - 1s 2ms/step - loss: 0.0526 - acc: 0.9104 - val_loss: 0.0502 - val_acc: 0.9128\n",
            "Epoch 40/75\n",
            "375/375 [==============================] - 1s 2ms/step - loss: 0.0519 - acc: 0.9114 - val_loss: 0.0496 - val_acc: 0.9141\n",
            "Epoch 41/75\n",
            "375/375 [==============================] - 1s 2ms/step - loss: 0.0513 - acc: 0.9131 - val_loss: 0.0496 - val_acc: 0.9141\n",
            "Epoch 42/75\n",
            "375/375 [==============================] - 1s 2ms/step - loss: 0.0508 - acc: 0.9136 - val_loss: 0.0487 - val_acc: 0.9152\n",
            "Epoch 43/75\n",
            "375/375 [==============================] - 1s 2ms/step - loss: 0.0502 - acc: 0.9149 - val_loss: 0.0480 - val_acc: 0.9172\n",
            "Epoch 44/75\n",
            "375/375 [==============================] - 1s 2ms/step - loss: 0.0496 - acc: 0.9153 - val_loss: 0.0477 - val_acc: 0.9170\n",
            "Epoch 45/75\n",
            "375/375 [==============================] - 1s 2ms/step - loss: 0.0491 - acc: 0.9168 - val_loss: 0.0474 - val_acc: 0.9171\n",
            "Epoch 46/75\n",
            "375/375 [==============================] - 1s 2ms/step - loss: 0.0486 - acc: 0.9175 - val_loss: 0.0471 - val_acc: 0.9186\n",
            "Epoch 47/75\n",
            "375/375 [==============================] - 1s 2ms/step - loss: 0.0481 - acc: 0.9188 - val_loss: 0.0466 - val_acc: 0.9197\n",
            "Epoch 48/75\n",
            "375/375 [==============================] - 1s 2ms/step - loss: 0.0477 - acc: 0.9193 - val_loss: 0.0466 - val_acc: 0.9193\n",
            "Epoch 49/75\n",
            "375/375 [==============================] - 1s 2ms/step - loss: 0.0472 - acc: 0.9197 - val_loss: 0.0457 - val_acc: 0.9219\n",
            "Epoch 50/75\n",
            "375/375 [==============================] - 1s 2ms/step - loss: 0.0468 - acc: 0.9209 - val_loss: 0.0455 - val_acc: 0.9212\n",
            "Epoch 51/75\n",
            "375/375 [==============================] - 1s 2ms/step - loss: 0.0463 - acc: 0.9210 - val_loss: 0.0450 - val_acc: 0.9227\n",
            "Epoch 52/75\n",
            "375/375 [==============================] - 1s 2ms/step - loss: 0.0459 - acc: 0.9219 - val_loss: 0.0446 - val_acc: 0.9242\n",
            "Epoch 53/75\n",
            "375/375 [==============================] - 1s 2ms/step - loss: 0.0455 - acc: 0.9230 - val_loss: 0.0445 - val_acc: 0.9234\n",
            "Epoch 54/75\n",
            "375/375 [==============================] - 1s 2ms/step - loss: 0.0451 - acc: 0.9230 - val_loss: 0.0439 - val_acc: 0.9255\n",
            "Epoch 55/75\n",
            "375/375 [==============================] - 1s 2ms/step - loss: 0.0447 - acc: 0.9249 - val_loss: 0.0438 - val_acc: 0.9266\n",
            "Epoch 56/75\n",
            "375/375 [==============================] - 1s 2ms/step - loss: 0.0444 - acc: 0.9246 - val_loss: 0.0436 - val_acc: 0.9267\n",
            "Tiempo de procesamiento (secs):  48.50783681869507\n"
          ],
          "name": "stdout"
        }
      ]
    },
    {
      "cell_type": "code",
      "metadata": {
        "id": "EtTfQCiK13vh",
        "colab_type": "code",
        "colab": {
          "base_uri": "https://localhost:8080/",
          "height": 295
        },
        "outputId": "85f0e9ba-75d2-4fe1-e4e7-99bf5ebef129"
      },
      "source": [
        "loss = historia.history['loss']\n",
        "val_loss = historia.history['val_loss']\n",
        "\n",
        "epochs = range(1, len(loss) + 1)\n",
        "\n",
        "# \"bo\" is for \"blue dot\"\n",
        "plt.plot(epochs, loss, 'bo', label='Training loss')\n",
        "# b is for \"solid blue line\"\n",
        "plt.plot(epochs, val_loss, 'b', label='Validation loss')\n",
        "plt.title('Training and validation loss')\n",
        "plt.xlabel('Epochs')\n",
        "plt.ylabel('Loss')\n",
        "plt.legend()\n",
        "\n",
        "plt.show()"
      ],
      "execution_count": null,
      "outputs": [
        {
          "output_type": "display_data",
          "data": {
            "image/png": "[encoded data removed]",
            "text/plain": [
              "<Figure size 432x288 with 1 Axes>"
            ]
          },
          "metadata": {
            "tags": [],
            "needs_background": "light"
          }
        }
      ]
    },
    {
      "cell_type": "code",
      "metadata": {
        "id": "AvaPVUn613vj",
        "colab_type": "code",
        "colab": {
          "base_uri": "https://localhost:8080/",
          "height": 50
        },
        "outputId": "a009b426-ca62-46a0-9c01-191521a253ca"
      },
      "source": [
        "test_loss, test_acc = modelo.evaluate(test_images, test_labels)\n",
        "print('test_acc:', test_acc)"
      ],
      "execution_count": null,
      "outputs": [
        {
          "output_type": "stream",
          "text": [
            "313/313 [==============================] - 0s 869us/step - loss: 0.0452 - acc: 0.9249\n",
            "test_acc: 0.9248999953269958\n"
          ],
          "name": "stdout"
        }
      ]
    },
    {
      "cell_type": "markdown",
      "metadata": {
        "id": "xVyuxGzn13vm",
        "colab_type": "text"
      },
      "source": [
        "* Se observa el número de epoca en el cual se detiene el entrenamiento"
      ]
    },
    {
      "cell_type": "code",
      "metadata": {
        "id": "uPBNyxTG13vm",
        "colab_type": "code",
        "colab": {
          "base_uri": "https://localhost:8080/",
          "height": 33
        },
        "outputId": "922acf6b-baa6-47d9-c65c-33143026ae00"
      },
      "source": [
        "epoca = len(historia.epoch) # epoca seleccionada\n",
        "print(epoca)"
      ],
      "execution_count": null,
      "outputs": [
        {
          "output_type": "stream",
          "text": [
            "56\n"
          ],
          "name": "stdout"
        }
      ]
    },
    {
      "cell_type": "markdown",
      "metadata": {
        "id": "ceMYRD-h13vu",
        "colab_type": "text"
      },
      "source": [
        "* Eliminamos el modelo y entrenamos con el número de epoca obtenida "
      ]
    },
    {
      "cell_type": "code",
      "metadata": {
        "id": "MorZTlit13vv",
        "colab_type": "code",
        "colab": {}
      },
      "source": [
        "del modelo"
      ],
      "execution_count": null,
      "outputs": []
    },
    {
      "cell_type": "code",
      "metadata": {
        "id": "jW8Qesmt13v1",
        "colab_type": "code",
        "colab": {
          "base_uri": "https://localhost:8080/",
          "height": 284
        },
        "outputId": "199dc39f-ef46-4e65-bb33-0772074c6194"
      },
      "source": [
        "from keras.layers import Dropout\n",
        "\n",
        "entrada = Input(shape = (28*28,))\n",
        "x = Dense(16,  activation = \"relu\")(entrada)\n",
        "x = Dense(16,  activation = \"relu\")(x)\n",
        "salida = Dense(10, activation =\"softmax\")(x)\n",
        "\n",
        "modelo = Model(entrada, salida)\n",
        "\n",
        "modelo.summary()"
      ],
      "execution_count": null,
      "outputs": [
        {
          "output_type": "stream",
          "text": [
            "Model: \"functional_9\"\n",
            "_________________________________________________________________\n",
            "Layer (type)                 Output Shape              Param #   \n",
            "=================================================================\n",
            "input_5 (InputLayer)         [(None, 784)]             0         \n",
            "_________________________________________________________________\n",
            "dense_12 (Dense)             (None, 16)                12560     \n",
            "_________________________________________________________________\n",
            "dense_13 (Dense)             (None, 16)                272       \n",
            "_________________________________________________________________\n",
            "dense_14 (Dense)             (None, 10)                170       \n",
            "=================================================================\n",
            "Total params: 13,002\n",
            "Trainable params: 13,002\n",
            "Non-trainable params: 0\n",
            "_________________________________________________________________\n"
          ],
          "name": "stdout"
        }
      ]
    },
    {
      "cell_type": "code",
      "metadata": {
        "id": "gppIU97Q13v4",
        "colab_type": "code",
        "colab": {
          "base_uri": "https://localhost:8080/",
          "height": 1000
        },
        "outputId": "cd70bd1b-847a-4b57-85a4-b590c27e5240"
      },
      "source": [
        "import time\n",
        "\n",
        "modelo.compile(optimizer='rmsprop', loss='binary_crossentropy', metrics=['acc'])\n",
        "\n",
        "\n",
        "tic=time.time()\n",
        "\n",
        "historia = modelo.fit(train_images, train_labels, epochs= epoca, batch_size=128, validation_split=0.2 )\n",
        "\n",
        "print('Tiempo de procesamiento (secs): ', time.time()-tic)"
      ],
      "execution_count": null,
      "outputs": [
        {
          "output_type": "stream",
          "text": [
            "Epoch 1/56\n",
            "375/375 [==============================] - 1s 2ms/step - loss: 0.3131 - acc: 0.3113 - val_loss: 0.2909 - val_acc: 0.3615\n",
            "Epoch 2/56\n",
            "375/375 [==============================] - 1s 2ms/step - loss: 0.2544 - acc: 0.4445 - val_loss: 0.2160 - val_acc: 0.5428\n",
            "Epoch 3/56\n",
            "375/375 [==============================] - 1s 2ms/step - loss: 0.1903 - acc: 0.5828 - val_loss: 0.1662 - val_acc: 0.6486\n",
            "Epoch 4/56\n",
            "375/375 [==============================] - 1s 2ms/step - loss: 0.1561 - acc: 0.6621 - val_loss: 0.1413 - val_acc: 0.7049\n",
            "Epoch 5/56\n",
            "375/375 [==============================] - 1s 2ms/step - loss: 0.1379 - acc: 0.7092 - val_loss: 0.1271 - val_acc: 0.7445\n",
            "Epoch 6/56\n",
            "375/375 [==============================] - 1s 2ms/step - loss: 0.1267 - acc: 0.7382 - val_loss: 0.1174 - val_acc: 0.7708\n",
            "Epoch 7/56\n",
            "375/375 [==============================] - 1s 2ms/step - loss: 0.1189 - acc: 0.7597 - val_loss: 0.1109 - val_acc: 0.7860\n",
            "Epoch 8/56\n",
            "375/375 [==============================] - 1s 2ms/step - loss: 0.1129 - acc: 0.7765 - val_loss: 0.1050 - val_acc: 0.8023\n",
            "Epoch 9/56\n",
            "375/375 [==============================] - 1s 2ms/step - loss: 0.1077 - acc: 0.7912 - val_loss: 0.0998 - val_acc: 0.8169\n",
            "Epoch 10/56\n",
            "375/375 [==============================] - 1s 2ms/step - loss: 0.1029 - acc: 0.8036 - val_loss: 0.0954 - val_acc: 0.8272\n",
            "Epoch 11/56\n",
            "375/375 [==============================] - 1s 2ms/step - loss: 0.0982 - acc: 0.8170 - val_loss: 0.0906 - val_acc: 0.8382\n",
            "Epoch 12/56\n",
            "375/375 [==============================] - 1s 2ms/step - loss: 0.0937 - acc: 0.8287 - val_loss: 0.0863 - val_acc: 0.8487\n",
            "Epoch 13/56\n",
            "375/375 [==============================] - 1s 2ms/step - loss: 0.0891 - acc: 0.8396 - val_loss: 0.0816 - val_acc: 0.8564\n",
            "Epoch 14/56\n",
            "375/375 [==============================] - 1s 2ms/step - loss: 0.0846 - acc: 0.8512 - val_loss: 0.0776 - val_acc: 0.8648\n",
            "Epoch 15/56\n",
            "375/375 [==============================] - 1s 3ms/step - loss: 0.0805 - acc: 0.8597 - val_loss: 0.0736 - val_acc: 0.8724\n",
            "Epoch 16/56\n",
            "375/375 [==============================] - 1s 2ms/step - loss: 0.0768 - acc: 0.8683 - val_loss: 0.0703 - val_acc: 0.8818\n",
            "Epoch 17/56\n",
            "375/375 [==============================] - 1s 2ms/step - loss: 0.0736 - acc: 0.8734 - val_loss: 0.0673 - val_acc: 0.8868\n",
            "Epoch 18/56\n",
            "375/375 [==============================] - 1s 2ms/step - loss: 0.0709 - acc: 0.8789 - val_loss: 0.0650 - val_acc: 0.8900\n",
            "Epoch 19/56\n",
            "375/375 [==============================] - 1s 2ms/step - loss: 0.0686 - acc: 0.8821 - val_loss: 0.0632 - val_acc: 0.8926\n",
            "Epoch 20/56\n",
            "375/375 [==============================] - 1s 2ms/step - loss: 0.0668 - acc: 0.8866 - val_loss: 0.0618 - val_acc: 0.8948\n",
            "Epoch 21/56\n",
            "375/375 [==============================] - 1s 2ms/step - loss: 0.0651 - acc: 0.8890 - val_loss: 0.0605 - val_acc: 0.8966\n",
            "Epoch 22/56\n",
            "375/375 [==============================] - 1s 2ms/step - loss: 0.0637 - acc: 0.8914 - val_loss: 0.0590 - val_acc: 0.8990\n",
            "Epoch 23/56\n",
            "375/375 [==============================] - 1s 2ms/step - loss: 0.0625 - acc: 0.8934 - val_loss: 0.0583 - val_acc: 0.9003\n",
            "Epoch 24/56\n",
            "375/375 [==============================] - 1s 2ms/step - loss: 0.0614 - acc: 0.8957 - val_loss: 0.0570 - val_acc: 0.9025\n",
            "Epoch 25/56\n",
            "375/375 [==============================] - 1s 2ms/step - loss: 0.0605 - acc: 0.8969 - val_loss: 0.0567 - val_acc: 0.9045\n",
            "Epoch 26/56\n",
            "375/375 [==============================] - 1s 3ms/step - loss: 0.0596 - acc: 0.8991 - val_loss: 0.0558 - val_acc: 0.9047\n",
            "Epoch 27/56\n",
            "375/375 [==============================] - 1s 2ms/step - loss: 0.0589 - acc: 0.8997 - val_loss: 0.0550 - val_acc: 0.9070\n",
            "Epoch 28/56\n",
            "375/375 [==============================] - 1s 2ms/step - loss: 0.0582 - acc: 0.9013 - val_loss: 0.0546 - val_acc: 0.9063\n",
            "Epoch 29/56\n",
            "375/375 [==============================] - 1s 2ms/step - loss: 0.0576 - acc: 0.9021 - val_loss: 0.0540 - val_acc: 0.9093\n",
            "Epoch 30/56\n",
            "375/375 [==============================] - 1s 2ms/step - loss: 0.0570 - acc: 0.9029 - val_loss: 0.0537 - val_acc: 0.9103\n",
            "Epoch 31/56\n",
            "375/375 [==============================] - 1s 2ms/step - loss: 0.0564 - acc: 0.9043 - val_loss: 0.0530 - val_acc: 0.9115\n",
            "Epoch 32/56\n",
            "375/375 [==============================] - 1s 2ms/step - loss: 0.0559 - acc: 0.9055 - val_loss: 0.0525 - val_acc: 0.9118\n",
            "Epoch 33/56\n",
            "375/375 [==============================] - 1s 2ms/step - loss: 0.0554 - acc: 0.9064 - val_loss: 0.0521 - val_acc: 0.9125\n",
            "Epoch 34/56\n",
            "375/375 [==============================] - 1s 2ms/step - loss: 0.0549 - acc: 0.9071 - val_loss: 0.0517 - val_acc: 0.9127\n",
            "Epoch 35/56\n",
            "375/375 [==============================] - 1s 2ms/step - loss: 0.0544 - acc: 0.9076 - val_loss: 0.0515 - val_acc: 0.9122\n",
            "Epoch 36/56\n",
            "375/375 [==============================] - 1s 2ms/step - loss: 0.0540 - acc: 0.9088 - val_loss: 0.0511 - val_acc: 0.9138\n",
            "Epoch 37/56\n",
            "375/375 [==============================] - 1s 2ms/step - loss: 0.0536 - acc: 0.9095 - val_loss: 0.0505 - val_acc: 0.9141\n",
            "Epoch 38/56\n",
            "375/375 [==============================] - 1s 2ms/step - loss: 0.0531 - acc: 0.9101 - val_loss: 0.0505 - val_acc: 0.9153\n",
            "Epoch 39/56\n",
            "375/375 [==============================] - 1s 2ms/step - loss: 0.0527 - acc: 0.9108 - val_loss: 0.0498 - val_acc: 0.9148\n",
            "Epoch 40/56\n",
            "375/375 [==============================] - 1s 2ms/step - loss: 0.0523 - acc: 0.9126 - val_loss: 0.0495 - val_acc: 0.9163\n",
            "Epoch 41/56\n",
            "375/375 [==============================] - 1s 2ms/step - loss: 0.0520 - acc: 0.9122 - val_loss: 0.0492 - val_acc: 0.9170\n",
            "Epoch 42/56\n",
            "375/375 [==============================] - 1s 2ms/step - loss: 0.0516 - acc: 0.9134 - val_loss: 0.0492 - val_acc: 0.9151\n",
            "Epoch 43/56\n",
            "375/375 [==============================] - 1s 2ms/step - loss: 0.0512 - acc: 0.9136 - val_loss: 0.0485 - val_acc: 0.9166\n",
            "Epoch 44/56\n",
            "375/375 [==============================] - 1s 2ms/step - loss: 0.0508 - acc: 0.9146 - val_loss: 0.0482 - val_acc: 0.9165\n",
            "Epoch 45/56\n",
            "375/375 [==============================] - 1s 2ms/step - loss: 0.0504 - acc: 0.9156 - val_loss: 0.0478 - val_acc: 0.9177\n",
            "Epoch 46/56\n",
            "375/375 [==============================] - 1s 2ms/step - loss: 0.0500 - acc: 0.9158 - val_loss: 0.0476 - val_acc: 0.9183\n",
            "Epoch 47/56\n",
            "375/375 [==============================] - 1s 2ms/step - loss: 0.0496 - acc: 0.9163 - val_loss: 0.0472 - val_acc: 0.9189\n",
            "Epoch 48/56\n",
            "375/375 [==============================] - 1s 2ms/step - loss: 0.0493 - acc: 0.9172 - val_loss: 0.0468 - val_acc: 0.9193\n",
            "Epoch 49/56\n",
            "375/375 [==============================] - 1s 2ms/step - loss: 0.0489 - acc: 0.9179 - val_loss: 0.0464 - val_acc: 0.9204\n",
            "Epoch 50/56\n",
            "375/375 [==============================] - 1s 2ms/step - loss: 0.0485 - acc: 0.9181 - val_loss: 0.0460 - val_acc: 0.9208\n",
            "Epoch 51/56\n",
            "375/375 [==============================] - 1s 2ms/step - loss: 0.0482 - acc: 0.9190 - val_loss: 0.0459 - val_acc: 0.9214\n",
            "Epoch 52/56\n",
            "375/375 [==============================] - 1s 2ms/step - loss: 0.0478 - acc: 0.9195 - val_loss: 0.0456 - val_acc: 0.9212\n",
            "Epoch 53/56\n",
            "375/375 [==============================] - 1s 2ms/step - loss: 0.0476 - acc: 0.9205 - val_loss: 0.0453 - val_acc: 0.9219\n",
            "Epoch 54/56\n",
            "375/375 [==============================] - 1s 2ms/step - loss: 0.0472 - acc: 0.9201 - val_loss: 0.0450 - val_acc: 0.9222\n",
            "Epoch 55/56\n",
            "375/375 [==============================] - 1s 2ms/step - loss: 0.0469 - acc: 0.9213 - val_loss: 0.0449 - val_acc: 0.9237\n",
            "Epoch 56/56\n",
            "375/375 [==============================] - 1s 2ms/step - loss: 0.0466 - acc: 0.9221 - val_loss: 0.0448 - val_acc: 0.9222\n",
            "Tiempo de procesamiento (secs):  48.54540014266968\n"
          ],
          "name": "stdout"
        }
      ]
    },
    {
      "cell_type": "code",
      "metadata": {
        "id": "nhSvm6cy13v6",
        "colab_type": "code",
        "colab": {
          "base_uri": "https://localhost:8080/",
          "height": 295
        },
        "outputId": "55304970-e141-49a7-b8aa-1c3f8aad377d"
      },
      "source": [
        "loss = historia.history['loss']\n",
        "val_loss = historia.history['val_loss']\n",
        "\n",
        "epochs = range(1, len(loss) + 1)\n",
        "\n",
        "# \"bo\" is for \"blue dot\"\n",
        "plt.plot(epochs, loss, 'bo', label='Training loss')\n",
        "# b is for \"solid blue line\"\n",
        "plt.plot(epochs, val_loss, 'b', label='Validation loss')\n",
        "plt.title('Training and validation loss')\n",
        "plt.xlabel('Epochs')\n",
        "plt.ylabel('Loss')\n",
        "plt.legend()\n",
        "\n",
        "plt.show()"
      ],
      "execution_count": null,
      "outputs": [
        {
          "output_type": "display_data",
          "data": {
            "image/png": "[encoded data removed]",
            "text/plain": [
              "<Figure size 432x288 with 1 Axes>"
            ]
          },
          "metadata": {
            "tags": [],
            "needs_background": "light"
          }
        }
      ]
    },
    {
      "cell_type": "code",
      "metadata": {
        "id": "6coxZ_Ou13v_",
        "colab_type": "code",
        "colab": {
          "base_uri": "https://localhost:8080/",
          "height": 50
        },
        "outputId": "aa80479b-9034-4723-a9cc-41cbd1d0f98a"
      },
      "source": [
        "test_loss, test_acc = modelo.evaluate(test_images, test_labels)\n",
        "print('test_acc:', test_acc)"
      ],
      "execution_count": null,
      "outputs": [
        {
          "output_type": "stream",
          "text": [
            "313/313 [==============================] - 0s 907us/step - loss: 0.0465 - acc: 0.9210\n",
            "test_acc: 0.9210000038146973\n"
          ],
          "name": "stdout"
        }
      ]
    }
  ]
}