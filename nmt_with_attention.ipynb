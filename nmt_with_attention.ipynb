{
  "nbformat": 4,
  "nbformat_minor": 0,
  "metadata": {
    "accelerator": "GPU",
    "colab": {
      "name": "nmt_with_attention.ipynb",
      "provenance": [],
      "collapsed_sections": [],
      "include_colab_link": true
    },
    "kernelspec": {
      "display_name": "Python 3",
      "language": "python",
      "name": "python3"
    },
    "language_info": {
      "codemirror_mode": {
        "name": "ipython",
        "version": 3
      },
      "file_extension": ".py",
      "mimetype": "text/x-python",
      "name": "python",
      "nbconvert_exporter": "python",
      "pygments_lexer": "ipython3",
      "version": "3.8.5"
    },
    "latex_envs": {
      "LaTeX_envs_menu_present": true,
      "autoclose": false,
      "autocomplete": true,
      "bibliofile": "biblio.bib",
      "cite_by": "apalike",
      "current_citInitial": 1,
      "eqLabelWithNumbers": true,
      "eqNumInitial": 1,
      "hotkeys": {
        "equation": "Ctrl-E",
        "itemize": "Ctrl-I"
      },
      "labels_anchors": false,
      "latex_user_defs": false,
      "report_style_numbering": false,
      "user_envs_cfg": false
    },
    "toc": {
      "base_numbering": 1,
      "nav_menu": {},
      "number_sections": false,
      "sideBar": true,
      "skip_h1_title": false,
      "title_cell": "Table of Contents",
      "title_sidebar": "Contents",
      "toc_cell": false,
      "toc_position": {},
      "toc_section_display": true,
      "toc_window_display": false
    }
  },
  "cells": [
    {
      "cell_type": "markdown",
      "metadata": {
        "id": "view-in-github",
        "colab_type": "text"
      },
      "source": [
        "<a href=\"https://colab.research.google.com/github/victorm0202/OP-2020-code/blob/master/nmt_with_attention.ipynb\" target=\"_parent\"><img src=\"https://colab.research.google.com/assets/colab-badge.svg\" alt=\"Open In Colab\"/></a>"
      ]
    },
    {
      "cell_type": "markdown",
      "metadata": {
        "id": "s_qNSzzyaCbD"
      },
      "source": [
        "##### Copyright 2019 The TensorFlow Authors."
      ]
    },
    {
      "cell_type": "code",
      "metadata": {
        "cellView": "form",
        "id": "jmjh290raIky"
      },
      "source": [
        "#@title Licensed under the Apache License, Version 2.0 (the \"License\");\n",
        "# you may not use this file except in compliance with the License.\n",
        "# You may obtain a copy of the License at\n",
        "#\n",
        "# https://www.apache.org/licenses/LICENSE-2.0\n",
        "#\n",
        "# Unless required by applicable law or agreed to in writing, software\n",
        "# distributed under the License is distributed on an \"AS IS\" BASIS,\n",
        "# WITHOUT WARRANTIES OR CONDITIONS OF ANY KIND, either express or implied.\n",
        "# See the License for the specific language governing permissions and\n",
        "# limitations under the License."
      ],
      "execution_count": null,
      "outputs": []
    },
    {
      "cell_type": "markdown",
      "metadata": {
        "id": "J0Qjg6vuaHNt"
      },
      "source": [
        "# Neural machine translation with attention"
      ]
    },
    {
      "cell_type": "markdown",
      "metadata": {
        "id": "AOpGoE2T-YXS"
      },
      "source": [
        "<table class=\"tfo-notebook-buttons\" align=\"left\">\n",
        "  <td>\n",
        "    <a target=\"_blank\" href=\"https://www.tensorflow.org/tutorials/text/nmt_with_attention\">\n",
        "    <img src=\"https://www.tensorflow.org/images/tf_logo_32px.png\" />\n",
        "    View on TensorFlow.org</a>\n",
        "  </td>\n",
        "  <td>\n",
        "    <a target=\"_blank\" href=\"https://colab.research.google.com/github/tensorflow/docs/blob/master/site/en/tutorials/text/nmt_with_attention.ipynb\">\n",
        "    <img src=\"https://www.tensorflow.org/images/colab_logo_32px.png\" />\n",
        "    Run in Google Colab</a>\n",
        "  </td>\n",
        "  <td>\n",
        "    <a target=\"_blank\" href=\"https://github.com/tensorflow/docs/blob/master/site/en/tutorials/text/nmt_with_attention.ipynb\">\n",
        "    <img src=\"https://www.tensorflow.org/images/GitHub-Mark-32px.png\" />\n",
        "    View source on GitHub</a>\n",
        "  </td>\n",
        "  <td>\n",
        "    <a href=\"https://storage.googleapis.com/tensorflow_docs/docs/site/en/tutorials/text/nmt_with_attention.ipynb\"><img src=\"https://www.tensorflow.org/images/download_logo_32px.png\" />Download notebook</a>\n",
        "  </td>\n",
        "</table>"
      ]
    },
    {
      "cell_type": "markdown",
      "metadata": {
        "id": "CiwtNgENbx2g"
      },
      "source": [
        "This notebook trains a sequence to sequence (seq2seq) model for Spanish to English translation. This is an advanced example that assumes some knowledge of sequence to sequence models.\n",
        "\n",
        "After training the model in this notebook, you will be able to input a Spanish sentence, such as *\"¿todavia estan en casa?\"*, and return the English translation: *\"are you still at home?\"*\n",
        "\n",
        "The translation quality is reasonable for a toy example, but the generated attention plot is perhaps more interesting. This shows which parts of the input sentence has the model's attention while translating:\n",
        "\n",
        "Note: This example takes approximately 10 minutes to run on a single P100 GPU."
      ]
    },
    {
      "cell_type": "code",
      "metadata": {
        "id": "tnxXKDjq3jEL"
      },
      "source": [
        "import tensorflow as tf\n",
        "\n",
        "import matplotlib.pyplot as plt\n",
        "import matplotlib.ticker as ticker\n",
        "from sklearn.model_selection import train_test_split\n",
        "\n",
        "import unicodedata\n",
        "import re\n",
        "import numpy as np\n",
        "import os\n",
        "import io\n",
        "import time"
      ],
      "execution_count": null,
      "outputs": []
    },
    {
      "cell_type": "markdown",
      "metadata": {
        "id": "wfodePkj3jEa"
      },
      "source": [
        "## Download and prepare the dataset\n",
        "\n",
        "We'll use a language dataset provided by http://www.manythings.org/anki/. This dataset contains language translation pairs in the format:\n",
        "\n",
        "```\n",
        "May I borrow this book?\t¿Puedo tomar prestado este libro?\n",
        "```\n",
        "\n",
        "There are a variety of languages available, but we'll use the English-Spanish dataset. For convenience, we've hosted a copy of this dataset on Google Cloud, but you can also download your own copy. After downloading the dataset, here are the steps we'll take to prepare the data:\n",
        "\n",
        "1. Add a *start* and *end* token to each sentence.\n",
        "2. Clean the sentences by removing special characters.\n",
        "3. Create a word index and reverse word index (dictionaries mapping from word → id and id → word).\n",
        "4. Pad each sentence to a maximum length."
      ]
    },
    {
      "cell_type": "code",
      "metadata": {
        "id": "kRVATYOgJs1b",
        "outputId": "908712e5-03ed-43ec-ce4a-7cd8f2c65cf8"
      },
      "source": [
        "# Download the file\n",
        "path_to_zip = tf.keras.utils.get_file(\n",
        "    'spa-eng.zip', origin='http://storage.googleapis.com/download.tensorflow.org/data/spa-eng.zip',\n",
        "    extract=True)\n",
        "\n",
        "path_to_file = os.path.dirname(path_to_zip)+\"/spa-eng/spa.txt\""
      ],
      "execution_count": null,
      "outputs": [
        {
          "output_type": "stream",
          "text": [
            "Downloading data from http://storage.googleapis.com/download.tensorflow.org/data/spa-eng.zip\n",
            "2646016/2638744 [==============================] - 1s 0us/step\n"
          ],
          "name": "stdout"
        }
      ]
    },
    {
      "cell_type": "code",
      "metadata": {
        "id": "lsLGyctaQ7bn",
        "outputId": "8c7bc4cd-9f17-454d-eb9b-b5ea952fa35b"
      },
      "source": [
        "path_to_file"
      ],
      "execution_count": null,
      "outputs": [
        {
          "output_type": "execute_result",
          "data": {
            "text/plain": [
              "'/home/victor/.keras/datasets/spa-eng/spa.txt'"
            ]
          },
          "metadata": {
            "tags": []
          },
          "execution_count": 3
        }
      ]
    },
    {
      "cell_type": "code",
      "metadata": {
        "id": "rd0jw-eC3jEh"
      },
      "source": [
        "# Converts the unicode file to ascii\n",
        "def unicode_to_ascii(s):\n",
        "  return ''.join(c for c in unicodedata.normalize('NFD', s)\n",
        "      if unicodedata.category(c) != 'Mn')\n",
        "\n",
        "\n",
        "def preprocess_sentence(w):\n",
        "  w = unicode_to_ascii(w.lower().strip())\n",
        "\n",
        "  # creating a space between a word and the punctuation following it\n",
        "  # eg: \"he is a boy.\" => \"he is a boy .\"\n",
        "  # Reference:- https://stackoverflow.com/questions/3645931/python-padding-punctuation-with-white-spaces-keeping-punctuation\n",
        "  w = re.sub(r\"([?.!,¿])\", r\" \\1 \", w)\n",
        "  w = re.sub(r'[\" \"]+', \" \", w)\n",
        "\n",
        "  # replacing everything with space except (a-z, A-Z, \".\", \"?\", \"!\", \",\")\n",
        "  w = re.sub(r\"[^a-zA-Z?.!,¿]+\", \" \", w)\n",
        "\n",
        "  w = w.strip()\n",
        "\n",
        "  # adding a start and an end token to the sentence\n",
        "  # so that the model know when to start and stop predicting.\n",
        "  w = '<start> ' + w + ' <end>'\n",
        "  return w"
      ],
      "execution_count": null,
      "outputs": []
    },
    {
      "cell_type": "code",
      "metadata": {
        "id": "opI2GzOt479E",
        "outputId": "8d6dd3a1-7d7f-4c1c-899f-ae0ba23b35e0"
      },
      "source": [
        "en_sentence = u\"May I borrow this book?\"\n",
        "sp_sentence = u\"¿Puedo tomar prestado este libro?\"\n",
        "print(preprocess_sentence(en_sentence))\n",
        "print(preprocess_sentence(sp_sentence).encode('utf-8'))"
      ],
      "execution_count": null,
      "outputs": [
        {
          "output_type": "stream",
          "text": [
            "<start> may i borrow this book ? <end>\n",
            "b'<start> \\xc2\\xbf puedo tomar prestado este libro ? <end>'\n"
          ],
          "name": "stdout"
        }
      ]
    },
    {
      "cell_type": "code",
      "metadata": {
        "id": "OHn4Dct23jEm"
      },
      "source": [
        "# 1. Remove the accents\n",
        "# 2. Clean the sentences\n",
        "# 3. Return word pairs in the format: [ENGLISH, SPANISH]\n",
        "def create_dataset(path, num_examples):\n",
        "  lines = io.open(path, encoding='UTF-8').read().strip().split('\\n')\n",
        "\n",
        "  word_pairs = [[preprocess_sentence(w) for w in l.split('\\t')]  for l in lines[:num_examples]]\n",
        "\n",
        "  return zip(*word_pairs)"
      ],
      "execution_count": null,
      "outputs": []
    },
    {
      "cell_type": "code",
      "metadata": {
        "id": "cTbSbBz55QtF",
        "outputId": "58a44549-6d5d-4bd5-99b8-3051195135c7"
      },
      "source": [
        "en, sp = create_dataset(path_to_file, None)\n",
        "print(en[-1])\n",
        "print(sp[-1])"
      ],
      "execution_count": null,
      "outputs": [
        {
          "output_type": "stream",
          "text": [
            "<start> if you want to sound like a native speaker , you must be willing to practice saying the same sentence over and over in the same way that banjo players practice the same phrase over and over until they can play it correctly and at the desired tempo . <end>\n",
            "<start> si quieres sonar como un hablante nativo , debes estar dispuesto a practicar diciendo la misma frase una y otra vez de la misma manera en que un musico de banjo practica el mismo fraseo una y otra vez hasta que lo puedan tocar correctamente y en el tiempo esperado . <end>\n"
          ],
          "name": "stdout"
        }
      ]
    },
    {
      "cell_type": "code",
      "metadata": {
        "id": "bIOn8RCNDJXG"
      },
      "source": [
        "def tokenize(lang):\n",
        "  lang_tokenizer = tf.keras.preprocessing.text.Tokenizer(\n",
        "      filters='')\n",
        "  lang_tokenizer.fit_on_texts(lang)\n",
        "\n",
        "  tensor = lang_tokenizer.texts_to_sequences(lang)\n",
        "\n",
        "  tensor = tf.keras.preprocessing.sequence.pad_sequences(tensor,\n",
        "                                                         padding='post')\n",
        "\n",
        "  return tensor, lang_tokenizer"
      ],
      "execution_count": null,
      "outputs": []
    },
    {
      "cell_type": "code",
      "metadata": {
        "id": "eAY9k49G3jE_"
      },
      "source": [
        "def load_dataset(path, num_examples=None):\n",
        "  # creating cleaned input, output pairs\n",
        "  targ_lang, inp_lang = create_dataset(path, num_examples)\n",
        "\n",
        "  input_tensor, inp_lang_tokenizer = tokenize(inp_lang)\n",
        "  target_tensor, targ_lang_tokenizer = tokenize(targ_lang)\n",
        "\n",
        "  return input_tensor, target_tensor, inp_lang_tokenizer, targ_lang_tokenizer"
      ],
      "execution_count": null,
      "outputs": []
    },
    {
      "cell_type": "markdown",
      "metadata": {
        "id": "GOi42V79Ydlr"
      },
      "source": [
        "### Limit the size of the dataset to experiment faster (optional)\n",
        "\n",
        "Training on the complete dataset of >100,000 sentences will take a long time. To train faster, we can limit the size of the dataset to 30,000 sentences (of course, translation quality degrades with less data):"
      ]
    },
    {
      "cell_type": "code",
      "metadata": {
        "id": "cnxC7q-j3jFD"
      },
      "source": [
        "# Try experimenting with the size of that dataset\n",
        "num_examples = 30000\n",
        "input_tensor, target_tensor, inp_lang, targ_lang = load_dataset(path_to_file, num_examples)\n",
        "\n",
        "# Calculate max_length of the target tensors\n",
        "max_length_targ, max_length_inp = target_tensor.shape[1], input_tensor.shape[1]"
      ],
      "execution_count": null,
      "outputs": []
    },
    {
      "cell_type": "code",
      "metadata": {
        "id": "4QILQkOs3jFG",
        "outputId": "e75d01c0-9888-436a-8afb-4cf488ce6084"
      },
      "source": [
        "# Creating training and validation sets using an 80-20 split\n",
        "input_tensor_train, input_tensor_val, target_tensor_train, target_tensor_val = train_test_split(input_tensor, target_tensor, test_size=0.2)\n",
        "\n",
        "# Show length\n",
        "print(len(input_tensor_train), len(target_tensor_train), len(input_tensor_val), len(target_tensor_val))"
      ],
      "execution_count": null,
      "outputs": [
        {
          "output_type": "stream",
          "text": [
            "24000 24000 6000 6000\n"
          ],
          "name": "stdout"
        }
      ]
    },
    {
      "cell_type": "code",
      "metadata": {
        "id": "lJPmLZGMeD5q"
      },
      "source": [
        "def convert(lang, tensor):\n",
        "  for t in tensor:\n",
        "    if t!=0:\n",
        "      print (\"%d ----> %s\" % (t, lang.index_word[t]))"
      ],
      "execution_count": null,
      "outputs": []
    },
    {
      "cell_type": "code",
      "metadata": {
        "id": "VXukARTDd7MT",
        "outputId": "6d86949f-8cf7-4abb-9c4d-ce8ceedfd284"
      },
      "source": [
        "print (\"Input Language; index to word mapping\")\n",
        "convert(inp_lang, input_tensor_train[0])\n",
        "print ()\n",
        "print (\"Target Language; index to word mapping\")\n",
        "convert(targ_lang, target_tensor_train[0])"
      ],
      "execution_count": null,
      "outputs": [
        {
          "output_type": "stream",
          "text": [
            "Input Language; index to word mapping\n",
            "1 ----> <start>\n",
            "1219 ----> siga\n",
            "2032 ----> practicando\n",
            "3 ----> .\n",
            "2 ----> <end>\n",
            "\n",
            "Target Language; index to word mapping\n",
            "1 ----> <start>\n",
            "111 ----> keep\n",
            "1413 ----> practicing\n",
            "3 ----> .\n",
            "2 ----> <end>\n"
          ],
          "name": "stdout"
        }
      ]
    },
    {
      "cell_type": "markdown",
      "metadata": {
        "id": "rgCLkfv5uO3d"
      },
      "source": [
        "### Create a tf.data dataset"
      ]
    },
    {
      "cell_type": "code",
      "metadata": {
        "id": "TqHsArVZ3jFS"
      },
      "source": [
        "BUFFER_SIZE = len(input_tensor_train)\n",
        "BATCH_SIZE = 64\n",
        "steps_per_epoch = len(input_tensor_train)//BATCH_SIZE\n",
        "embedding_dim = 256\n",
        "units = 1024\n",
        "vocab_inp_size = len(inp_lang.word_index)+1\n",
        "vocab_tar_size = len(targ_lang.word_index)+1\n",
        "\n",
        "dataset = tf.data.Dataset.from_tensor_slices((input_tensor_train, target_tensor_train)).shuffle(BUFFER_SIZE)\n",
        "dataset = dataset.batch(BATCH_SIZE, drop_remainder=True)"
      ],
      "execution_count": null,
      "outputs": []
    },
    {
      "cell_type": "code",
      "metadata": {
        "id": "qc6-NK1GtWQt",
        "outputId": "35e74ee9-0b62-4f3f-a6c0-ced6065c3c38"
      },
      "source": [
        "example_input_batch, example_target_batch = next(iter(dataset))\n",
        "example_input_batch.shape, example_target_batch.shape"
      ],
      "execution_count": null,
      "outputs": [
        {
          "output_type": "execute_result",
          "data": {
            "text/plain": [
              "(TensorShape([64, 16]), TensorShape([64, 11]))"
            ]
          },
          "metadata": {
            "tags": []
          },
          "execution_count": 15
        }
      ]
    },
    {
      "cell_type": "markdown",
      "metadata": {
        "id": "TNfHIF71ulLu"
      },
      "source": [
        "## Write the encoder and decoder model\n",
        "\n",
        "Implement an encoder-decoder model with attention which you can read about in the TensorFlow [Neural Machine Translation (seq2seq) tutorial](https://github.com/tensorflow/nmt). This example uses a more recent set of APIs. This notebook implements the [attention equations](https://github.com/tensorflow/nmt#background-on-the-attention-mechanism) from the seq2seq tutorial. \n",
        "\n",
        "The input is put through an encoder model which gives us the encoder output of shape *(batch_size, max_length, hidden_size)* and the encoder hidden state of shape *(batch_size, hidden_size)*.\n",
        "\n",
        "Here are the equations that are implemented:\n",
        "\n",
        "<img src=\"https://www.tensorflow.org/images/seq2seq/attention_equation_0.jpg\" alt=\"attention equation 0\" width=\"800\">\n",
        "<img src=\"https://www.tensorflow.org/images/seq2seq/attention_equation_1.jpg\" alt=\"attention equation 1\" width=\"800\">\n",
        "\n",
        "This tutorial uses [Bahdanau attention](https://arxiv.org/pdf/1409.0473.pdf) for the encoder. Let's decide on notation before writing the simplified form:\n",
        "\n",
        "* FC = Fully connected (dense) layer\n",
        "* EO = Encoder output\n",
        "* H = hidden state\n",
        "* X = input to the decoder\n",
        "\n",
        "And the pseudo-code:\n",
        "\n",
        "* `score = FC(tanh(FC(EO) + FC(H)))`\n",
        "* `attention weights = softmax(score, axis = 1)`. Softmax by default is applied on the last axis but here we want to apply it on the *1st axis*, since the shape of score is *(batch_size, max_length, hidden_size)*. `Max_length` is the length of our input. Since we are trying to assign a weight to each input, softmax should be applied on that axis.\n",
        "* `context vector = sum(attention weights * EO, axis = 1)`. Same reason as above for choosing axis as 1.\n",
        "* `embedding output` = The input to the decoder X is passed through an embedding layer.\n",
        "* `merged vector = concat(embedding output, context vector)`\n",
        "* This merged vector is then given to the GRU\n",
        "\n",
        "The shapes of all the vectors at each step have been specified in the comments in the code:"
      ]
    },
    {
      "cell_type": "code",
      "metadata": {
        "id": "nZ2rI24i3jFg"
      },
      "source": [
        "class Encoder(tf.keras.Model):\n",
        "  def __init__(self, vocab_size, embedding_dim, enc_units, batch_sz):\n",
        "    super(Encoder, self).__init__()\n",
        "    self.batch_sz = batch_sz\n",
        "    self.enc_units = enc_units\n",
        "    self.embedding = tf.keras.layers.Embedding(vocab_size, embedding_dim)\n",
        "    self.gru = tf.keras.layers.GRU(self.enc_units,\n",
        "                                   return_sequences=True,\n",
        "                                   return_state=True,\n",
        "                                   recurrent_initializer='glorot_uniform')\n",
        "\n",
        "  def call(self, x, hidden):\n",
        "    x = self.embedding(x)\n",
        "    output, state = self.gru(x, initial_state = hidden)\n",
        "    return output, state\n",
        "\n",
        "  def initialize_hidden_state(self):\n",
        "    return tf.zeros((self.batch_sz, self.enc_units))"
      ],
      "execution_count": null,
      "outputs": []
    },
    {
      "cell_type": "code",
      "metadata": {
        "id": "60gSVh05Jl6l",
        "outputId": "afcf6eeb-6627-4f9c-b337-0ce8b98c4b75"
      },
      "source": [
        "encoder = Encoder(vocab_inp_size, embedding_dim, units, BATCH_SIZE)\n",
        "\n",
        "# sample input\n",
        "sample_hidden = encoder.initialize_hidden_state()\n",
        "sample_output, sample_hidden = encoder(example_input_batch, sample_hidden)\n",
        "print ('Encoder output shape: (batch size, sequence length, units) {}'.format(sample_output.shape))\n",
        "print ('Encoder Hidden state shape: (batch size, units) {}'.format(sample_hidden.shape))"
      ],
      "execution_count": null,
      "outputs": [
        {
          "output_type": "stream",
          "text": [
            "Encoder output shape: (batch size, sequence length, units) (64, 16, 1024)\n",
            "Encoder Hidden state shape: (batch size, units) (64, 1024)\n"
          ],
          "name": "stdout"
        }
      ]
    },
    {
      "cell_type": "code",
      "metadata": {
        "id": "umohpBN2OM94"
      },
      "source": [
        "class BahdanauAttention(tf.keras.layers.Layer):\n",
        "  def __init__(self, units):\n",
        "    super(BahdanauAttention, self).__init__()\n",
        "    self.W1 = tf.keras.layers.Dense(units)\n",
        "    self.W2 = tf.keras.layers.Dense(units)\n",
        "    self.V = tf.keras.layers.Dense(1)\n",
        "\n",
        "  def call(self, query, values):\n",
        "    # query hidden state shape == (batch_size, hidden size)\n",
        "    # query_with_time_axis shape == (batch_size, 1, hidden size)\n",
        "    # values shape == (batch_size, max_len, hidden size)\n",
        "    # we are doing this to broadcast addition along the time axis to calculate the score\n",
        "    query_with_time_axis = tf.expand_dims(query, 1)\n",
        "\n",
        "    # score shape == (batch_size, max_length, 1)\n",
        "    # we get 1 at the last axis because we are applying score to self.V\n",
        "    # the shape of the tensor before applying self.V is (batch_size, max_length, units)\n",
        "    score = self.V(tf.nn.tanh(\n",
        "        self.W1(query_with_time_axis) + self.W2(values)))\n",
        "\n",
        "    # attention_weights shape == (batch_size, max_length, 1)\n",
        "    attention_weights = tf.nn.softmax(score, axis=1)\n",
        "\n",
        "    # context_vector shape after sum == (batch_size, hidden_size)\n",
        "    context_vector = attention_weights * values\n",
        "    context_vector = tf.reduce_sum(context_vector, axis=1)\n",
        "\n",
        "    return context_vector, attention_weights"
      ],
      "execution_count": null,
      "outputs": []
    },
    {
      "cell_type": "code",
      "metadata": {
        "id": "k534zTHiDjQU",
        "outputId": "edac504a-4b4b-4e2f-c22c-41fe4a492c0f"
      },
      "source": [
        "attention_layer = BahdanauAttention(10)\n",
        "attention_result, attention_weights = attention_layer(sample_hidden, sample_output)\n",
        "\n",
        "print(\"Attention result shape: (batch size, units) {}\".format(attention_result.shape))\n",
        "print(\"Attention weights shape: (batch_size, sequence_length, 1) {}\".format(attention_weights.shape))"
      ],
      "execution_count": null,
      "outputs": [
        {
          "output_type": "stream",
          "text": [
            "Attention result shape: (batch size, units) (64, 1024)\n",
            "Attention weights shape: (batch_size, sequence_length, 1) (64, 16, 1)\n"
          ],
          "name": "stdout"
        }
      ]
    },
    {
      "cell_type": "code",
      "metadata": {
        "id": "yJ_B3mhW3jFk"
      },
      "source": [
        "class Decoder(tf.keras.Model):\n",
        "  def __init__(self, vocab_size, embedding_dim, dec_units, batch_sz):\n",
        "    super(Decoder, self).__init__()\n",
        "    self.batch_sz = batch_sz\n",
        "    self.dec_units = dec_units\n",
        "    self.embedding = tf.keras.layers.Embedding(vocab_size, embedding_dim)\n",
        "    self.gru = tf.keras.layers.GRU(self.dec_units,\n",
        "                                   return_sequences=True,\n",
        "                                   return_state=True,\n",
        "                                   recurrent_initializer='glorot_uniform')\n",
        "    self.fc = tf.keras.layers.Dense(vocab_size)\n",
        "\n",
        "    # used for attention\n",
        "    self.attention = BahdanauAttention(self.dec_units)\n",
        "\n",
        "  def call(self, x, hidden, enc_output):\n",
        "    # enc_output shape == (batch_size, max_length, hidden_size)\n",
        "    context_vector, attention_weights = self.attention(hidden, enc_output)\n",
        "\n",
        "    # x shape after passing through embedding == (batch_size, 1, embedding_dim)\n",
        "    x = self.embedding(x)\n",
        "\n",
        "    # x shape after concatenation == (batch_size, 1, embedding_dim + hidden_size)\n",
        "    x = tf.concat([tf.expand_dims(context_vector, 1), x], axis=-1)\n",
        "\n",
        "    # passing the concatenated vector to the GRU\n",
        "    output, state = self.gru(x)\n",
        "\n",
        "    # output shape == (batch_size * 1, hidden_size)\n",
        "    output = tf.reshape(output, (-1, output.shape[2]))\n",
        "\n",
        "    # output shape == (batch_size, vocab)\n",
        "    x = self.fc(output)\n",
        "\n",
        "    return x, state, attention_weights"
      ],
      "execution_count": null,
      "outputs": []
    },
    {
      "cell_type": "code",
      "metadata": {
        "id": "P5UY8wko3jFp",
        "outputId": "770d759e-5f56-4c84-be8a-ffb35e4fe645"
      },
      "source": [
        "decoder = Decoder(vocab_tar_size, embedding_dim, units, BATCH_SIZE)\n",
        "\n",
        "sample_decoder_output, _, _ = decoder(tf.random.uniform((BATCH_SIZE, 1)),\n",
        "                                      sample_hidden, sample_output)\n",
        "\n",
        "print ('Decoder output shape: (batch_size, vocab size) {}'.format(sample_decoder_output.shape))"
      ],
      "execution_count": null,
      "outputs": [
        {
          "output_type": "stream",
          "text": [
            "Decoder output shape: (batch_size, vocab size) (64, 4935)\n"
          ],
          "name": "stdout"
        }
      ]
    },
    {
      "cell_type": "markdown",
      "metadata": {
        "id": "_ch_71VbIRfK"
      },
      "source": [
        "## Define the optimizer and the loss function"
      ]
    },
    {
      "cell_type": "code",
      "metadata": {
        "id": "WmTHr5iV3jFr"
      },
      "source": [
        "optimizer = tf.keras.optimizers.Adam()\n",
        "loss_object = tf.keras.losses.SparseCategoricalCrossentropy(\n",
        "    from_logits=True, reduction='none')\n",
        "\n",
        "def loss_function(real, pred):\n",
        "  mask = tf.math.logical_not(tf.math.equal(real, 0))\n",
        "  loss_ = loss_object(real, pred)\n",
        "\n",
        "  mask = tf.cast(mask, dtype=loss_.dtype)\n",
        "  loss_ *= mask\n",
        "\n",
        "  return tf.reduce_mean(loss_)"
      ],
      "execution_count": null,
      "outputs": []
    },
    {
      "cell_type": "markdown",
      "metadata": {
        "id": "DMVWzzsfNl4e"
      },
      "source": [
        "## Checkpoints (Object-based saving)"
      ]
    },
    {
      "cell_type": "code",
      "metadata": {
        "id": "Zj8bXQTgNwrF"
      },
      "source": [
        "checkpoint_dir = './training_checkpoints'\n",
        "checkpoint_prefix = os.path.join(checkpoint_dir, \"ckpt\")\n",
        "checkpoint = tf.train.Checkpoint(optimizer=optimizer,\n",
        "                                 encoder=encoder,\n",
        "                                 decoder=decoder)"
      ],
      "execution_count": null,
      "outputs": []
    },
    {
      "cell_type": "markdown",
      "metadata": {
        "id": "hpObfY22IddU"
      },
      "source": [
        "## Training\n",
        "\n",
        "1. Pass the *input* through the *encoder* which return *encoder output* and the *encoder hidden state*.\n",
        "2. The encoder output, encoder hidden state and the decoder input (which is the *start token*) is passed to the decoder.\n",
        "3. The decoder returns the *predictions* and the *decoder hidden state*.\n",
        "4. The decoder hidden state is then passed back into the model and the predictions are used to calculate the loss.\n",
        "5. Use *teacher forcing* to decide the next input to the decoder.\n",
        "6. *Teacher forcing* is the technique where the *target word* is passed as the *next input* to the decoder.\n",
        "7. The final step is to calculate the gradients and apply it to the optimizer and backpropagate."
      ]
    },
    {
      "cell_type": "code",
      "metadata": {
        "id": "sC9ArXSsVfqn"
      },
      "source": [
        "@tf.function\n",
        "def train_step(inp, targ, enc_hidden):\n",
        "  loss = 0\n",
        "\n",
        "  with tf.GradientTape() as tape:\n",
        "    enc_output, enc_hidden = encoder(inp, enc_hidden)\n",
        "\n",
        "    dec_hidden = enc_hidden\n",
        "\n",
        "    dec_input = tf.expand_dims([targ_lang.word_index['<start>']] * BATCH_SIZE, 1)\n",
        "\n",
        "    # Teacher forcing - feeding the target as the next input\n",
        "    for t in range(1, targ.shape[1]):\n",
        "      # passing enc_output to the decoder\n",
        "      predictions, dec_hidden, _ = decoder(dec_input, dec_hidden, enc_output)\n",
        "\n",
        "      loss += loss_function(targ[:, t], predictions)\n",
        "\n",
        "      # using teacher forcing\n",
        "      dec_input = tf.expand_dims(targ[:, t], 1)\n",
        "\n",
        "  batch_loss = (loss / int(targ.shape[1]))\n",
        "\n",
        "  variables = encoder.trainable_variables + decoder.trainable_variables\n",
        "\n",
        "  gradients = tape.gradient(loss, variables)\n",
        "\n",
        "  optimizer.apply_gradients(zip(gradients, variables))\n",
        "\n",
        "  return batch_loss"
      ],
      "execution_count": null,
      "outputs": []
    },
    {
      "cell_type": "code",
      "metadata": {
        "id": "ddefjBMa3jF0",
        "outputId": "660db221-68f7-42ca-da38-e04ea2e347b3"
      },
      "source": [
        "EPOCHS = 50\n",
        "\n",
        "for epoch in range(EPOCHS):\n",
        "  start = time.time()\n",
        "\n",
        "  enc_hidden = encoder.initialize_hidden_state()\n",
        "  total_loss = 0\n",
        "\n",
        "  for (batch, (inp, targ)) in enumerate(dataset.take(steps_per_epoch)):\n",
        "    batch_loss = train_step(inp, targ, enc_hidden)\n",
        "    total_loss += batch_loss\n",
        "\n",
        "    if batch % 100 == 0:\n",
        "      print('Epoch {} Batch {} Loss {:.4f}'.format(epoch + 1,\n",
        "                                                   batch,\n",
        "                                                   batch_loss.numpy()))\n",
        "  # saving (checkpoint) the model every 2 epochs\n",
        "  if (epoch + 1) % 2 == 0:\n",
        "    checkpoint.save(file_prefix = checkpoint_prefix)\n",
        "\n",
        "  print('Epoch {} Loss {:.4f}'.format(epoch + 1,\n",
        "                                      total_loss / steps_per_epoch))\n",
        "  print('Time taken for 1 epoch {} sec\\n'.format(time.time() - start))"
      ],
      "execution_count": null,
      "outputs": [
        {
          "output_type": "stream",
          "text": [
            "Epoch 1 Batch 0 Loss 0.0788\n",
            "Epoch 1 Batch 100 Loss 0.0707\n",
            "Epoch 1 Batch 200 Loss 0.0600\n",
            "Epoch 1 Batch 300 Loss 0.0701\n",
            "Epoch 1 Loss 0.0772\n",
            "Time taken for 1 epoch 227.19559574127197 sec\n",
            "\n",
            "Epoch 2 Batch 0 Loss 0.0532\n",
            "Epoch 2 Batch 100 Loss 0.0522\n",
            "Epoch 2 Batch 200 Loss 0.0813\n",
            "Epoch 2 Batch 300 Loss 0.0876\n",
            "Epoch 2 Loss 0.0702\n",
            "Time taken for 1 epoch 245.46865487098694 sec\n",
            "\n",
            "Epoch 3 Batch 0 Loss 0.0696\n",
            "Epoch 3 Batch 100 Loss 0.0652\n",
            "Epoch 3 Batch 200 Loss 0.0844\n",
            "Epoch 3 Batch 300 Loss 0.0628\n",
            "Epoch 3 Loss 0.0667\n",
            "Time taken for 1 epoch 248.74713134765625 sec\n",
            "\n",
            "Epoch 4 Batch 0 Loss 0.0431\n",
            "Epoch 4 Batch 100 Loss 0.0370\n",
            "Epoch 4 Batch 200 Loss 0.0719\n",
            "Epoch 4 Batch 300 Loss 0.0653\n",
            "Epoch 4 Loss 0.0627\n",
            "Time taken for 1 epoch 250.28876161575317 sec\n",
            "\n",
            "Epoch 5 Batch 0 Loss 0.0528\n",
            "Epoch 5 Batch 100 Loss 0.0432\n",
            "Epoch 5 Batch 200 Loss 0.0345\n",
            "Epoch 5 Batch 300 Loss 0.0677\n",
            "Epoch 5 Loss 0.0577\n",
            "Time taken for 1 epoch 251.3375325202942 sec\n",
            "\n",
            "Epoch 6 Batch 0 Loss 0.0483\n",
            "Epoch 6 Batch 100 Loss 0.0388\n",
            "Epoch 6 Batch 200 Loss 0.0634\n",
            "Epoch 6 Batch 300 Loss 0.0528\n",
            "Epoch 6 Loss 0.0556\n",
            "Time taken for 1 epoch 252.72088742256165 sec\n",
            "\n",
            "Epoch 7 Batch 0 Loss 0.0213\n",
            "Epoch 7 Batch 100 Loss 0.0423\n",
            "Epoch 7 Batch 200 Loss 0.0536\n",
            "Epoch 7 Batch 300 Loss 0.0688\n",
            "Epoch 7 Loss 0.0536\n",
            "Time taken for 1 epoch 252.60781002044678 sec\n",
            "\n",
            "Epoch 8 Batch 0 Loss 0.0324\n",
            "Epoch 8 Batch 100 Loss 0.0298\n",
            "Epoch 8 Batch 200 Loss 0.0407\n",
            "Epoch 8 Batch 300 Loss 0.0600\n",
            "Epoch 8 Loss 0.0520\n",
            "Time taken for 1 epoch 250.9070291519165 sec\n",
            "\n",
            "Epoch 9 Batch 0 Loss 0.0426\n",
            "Epoch 9 Batch 100 Loss 0.0557\n",
            "Epoch 9 Batch 200 Loss 0.0444\n",
            "Epoch 9 Batch 300 Loss 0.0511\n",
            "Epoch 9 Loss 0.0516\n",
            "Time taken for 1 epoch 248.58138871192932 sec\n",
            "\n",
            "Epoch 10 Batch 0 Loss 0.0536\n",
            "Epoch 10 Batch 100 Loss 0.0364\n",
            "Epoch 10 Batch 200 Loss 0.0558\n",
            "Epoch 10 Batch 300 Loss 0.0497\n",
            "Epoch 10 Loss 0.0499\n",
            "Time taken for 1 epoch 248.49078154563904 sec\n",
            "\n",
            "Epoch 11 Batch 0 Loss 0.0288\n",
            "Epoch 11 Batch 100 Loss 0.0549\n",
            "Epoch 11 Batch 200 Loss 0.0346\n",
            "Epoch 11 Batch 300 Loss 0.0454\n",
            "Epoch 11 Loss 0.0488\n",
            "Time taken for 1 epoch 248.9355137348175 sec\n",
            "\n",
            "Epoch 12 Batch 0 Loss 0.0466\n",
            "Epoch 12 Batch 100 Loss 0.0713\n",
            "Epoch 12 Batch 200 Loss 0.0647\n",
            "Epoch 12 Batch 300 Loss 0.0880\n",
            "Epoch 12 Loss 0.0463\n",
            "Time taken for 1 epoch 248.66296458244324 sec\n",
            "\n",
            "Epoch 13 Batch 0 Loss 0.0373\n",
            "Epoch 13 Batch 100 Loss 0.0418\n",
            "Epoch 13 Batch 200 Loss 0.0314\n",
            "Epoch 13 Batch 300 Loss 0.0515\n",
            "Epoch 13 Loss 0.0439\n",
            "Time taken for 1 epoch 248.79071950912476 sec\n",
            "\n",
            "Epoch 14 Batch 0 Loss 0.0354\n",
            "Epoch 14 Batch 100 Loss 0.0257\n",
            "Epoch 14 Batch 200 Loss 0.0515\n",
            "Epoch 14 Batch 300 Loss 0.0822\n",
            "Epoch 14 Loss 0.0430\n",
            "Time taken for 1 epoch 252.45777320861816 sec\n",
            "\n",
            "Epoch 15 Batch 0 Loss 0.0291\n",
            "Epoch 15 Batch 100 Loss 0.0264\n",
            "Epoch 15 Batch 200 Loss 0.0424\n",
            "Epoch 15 Batch 300 Loss 0.0188\n",
            "Epoch 15 Loss 0.0426\n",
            "Time taken for 1 epoch 253.5407519340515 sec\n",
            "\n",
            "Epoch 16 Batch 0 Loss 0.0176\n",
            "Epoch 16 Batch 100 Loss 0.0480\n",
            "Epoch 16 Batch 200 Loss 0.0369\n",
            "Epoch 16 Batch 300 Loss 0.0200\n",
            "Epoch 16 Loss 0.0406\n",
            "Time taken for 1 epoch 254.62819910049438 sec\n",
            "\n",
            "Epoch 17 Batch 0 Loss 0.0153\n",
            "Epoch 17 Batch 100 Loss 0.0480\n",
            "Epoch 17 Batch 200 Loss 0.0302\n",
            "Epoch 17 Batch 300 Loss 0.0515\n",
            "Epoch 17 Loss 0.0406\n",
            "Time taken for 1 epoch 254.20720672607422 sec\n",
            "\n",
            "Epoch 18 Batch 0 Loss 0.0122\n",
            "Epoch 18 Batch 100 Loss 0.0360\n",
            "Epoch 18 Batch 200 Loss 0.0686\n",
            "Epoch 18 Batch 300 Loss 0.0436\n",
            "Epoch 18 Loss 0.0396\n",
            "Time taken for 1 epoch 251.18728065490723 sec\n",
            "\n",
            "Epoch 19 Batch 0 Loss 0.0189\n",
            "Epoch 19 Batch 100 Loss 0.0280\n",
            "Epoch 19 Batch 200 Loss 0.0216\n",
            "Epoch 19 Batch 300 Loss 0.0292\n",
            "Epoch 19 Loss 0.0395\n",
            "Time taken for 1 epoch 249.58323860168457 sec\n",
            "\n",
            "Epoch 20 Batch 0 Loss 0.0287\n",
            "Epoch 20 Batch 100 Loss 0.0230\n",
            "Epoch 20 Batch 200 Loss 0.0434\n",
            "Epoch 20 Batch 300 Loss 0.0289\n",
            "Epoch 20 Loss 0.0373\n",
            "Time taken for 1 epoch 249.6494870185852 sec\n",
            "\n",
            "Epoch 21 Batch 0 Loss 0.0631\n",
            "Epoch 21 Batch 100 Loss 0.0175\n",
            "Epoch 21 Batch 200 Loss 0.0422\n",
            "Epoch 21 Batch 300 Loss 0.0179\n",
            "Epoch 21 Loss 0.0364\n",
            "Time taken for 1 epoch 249.46628308296204 sec\n",
            "\n",
            "Epoch 22 Batch 0 Loss 0.0401\n",
            "Epoch 22 Batch 100 Loss 0.0184\n",
            "Epoch 22 Batch 200 Loss 0.0239\n",
            "Epoch 22 Batch 300 Loss 0.0211\n",
            "Epoch 22 Loss 0.0349\n",
            "Time taken for 1 epoch 249.46701622009277 sec\n",
            "\n",
            "Epoch 23 Batch 0 Loss 0.0280\n",
            "Epoch 23 Batch 100 Loss 0.0170\n",
            "Epoch 23 Batch 200 Loss 0.0379\n",
            "Epoch 23 Batch 300 Loss 0.0484\n",
            "Epoch 23 Loss 0.0338\n",
            "Time taken for 1 epoch 249.57563710212708 sec\n",
            "\n",
            "Epoch 24 Batch 0 Loss 0.0205\n",
            "Epoch 24 Batch 100 Loss 0.0443\n",
            "Epoch 24 Batch 200 Loss 0.0350\n",
            "Epoch 24 Batch 300 Loss 0.0470\n",
            "Epoch 24 Loss 0.0362\n",
            "Time taken for 1 epoch 249.50299263000488 sec\n",
            "\n",
            "Epoch 25 Batch 0 Loss 0.0187\n",
            "Epoch 25 Batch 100 Loss 0.0425\n",
            "Epoch 25 Batch 200 Loss 0.0271\n",
            "Epoch 25 Batch 300 Loss 0.0878\n",
            "Epoch 25 Loss 0.0372\n",
            "Time taken for 1 epoch 249.34325885772705 sec\n",
            "\n",
            "Epoch 26 Batch 0 Loss 0.0121\n",
            "Epoch 26 Batch 100 Loss 0.0184\n",
            "Epoch 26 Batch 200 Loss 0.0416\n",
            "Epoch 26 Batch 300 Loss 0.0409\n",
            "Epoch 26 Loss 0.0359\n",
            "Time taken for 1 epoch 249.52949619293213 sec\n",
            "\n",
            "Epoch 27 Batch 0 Loss 0.0138\n",
            "Epoch 27 Batch 100 Loss 0.0405\n",
            "Epoch 27 Batch 200 Loss 0.0384\n",
            "Epoch 27 Batch 300 Loss 0.0301\n",
            "Epoch 27 Loss 0.0338\n",
            "Time taken for 1 epoch 249.28313946723938 sec\n",
            "\n",
            "Epoch 28 Batch 0 Loss 0.0277\n",
            "Epoch 28 Batch 100 Loss 0.0442\n",
            "Epoch 28 Batch 200 Loss 0.0474\n",
            "Epoch 28 Batch 300 Loss 0.0381\n",
            "Epoch 28 Loss 0.0321\n",
            "Time taken for 1 epoch 249.8427665233612 sec\n",
            "\n",
            "Epoch 29 Batch 0 Loss 0.0282\n",
            "Epoch 29 Batch 100 Loss 0.0204\n",
            "Epoch 29 Batch 200 Loss 0.0448\n",
            "Epoch 29 Batch 300 Loss 0.0356\n",
            "Epoch 29 Loss 0.0339\n",
            "Time taken for 1 epoch 249.42735147476196 sec\n",
            "\n",
            "Epoch 30 Batch 0 Loss 0.0244\n",
            "Epoch 30 Batch 100 Loss 0.0102\n",
            "Epoch 30 Batch 200 Loss 0.0448\n",
            "Epoch 30 Batch 300 Loss 0.0428\n",
            "Epoch 30 Loss 0.0341\n",
            "Time taken for 1 epoch 249.33358192443848 sec\n",
            "\n",
            "Epoch 31 Batch 0 Loss 0.0187\n",
            "Epoch 31 Batch 100 Loss 0.0136\n",
            "Epoch 31 Batch 200 Loss 0.0519\n",
            "Epoch 31 Batch 300 Loss 0.0334\n",
            "Epoch 31 Loss 0.0315\n",
            "Time taken for 1 epoch 248.74236750602722 sec\n",
            "\n",
            "Epoch 32 Batch 0 Loss 0.0299\n",
            "Epoch 32 Batch 100 Loss 0.0178\n",
            "Epoch 32 Batch 200 Loss 0.0353\n",
            "Epoch 32 Batch 300 Loss 0.0410\n",
            "Epoch 32 Loss 0.0294\n",
            "Time taken for 1 epoch 249.80233335494995 sec\n",
            "\n",
            "Epoch 33 Batch 0 Loss 0.0177\n",
            "Epoch 33 Batch 100 Loss 0.0196\n",
            "Epoch 33 Batch 200 Loss 0.0169\n",
            "Epoch 33 Batch 300 Loss 0.0107\n",
            "Epoch 33 Loss 0.0286\n",
            "Time taken for 1 epoch 248.6265652179718 sec\n",
            "\n",
            "Epoch 34 Batch 0 Loss 0.0238\n",
            "Epoch 34 Batch 100 Loss 0.0103\n",
            "Epoch 34 Batch 200 Loss 0.0227\n",
            "Epoch 34 Batch 300 Loss 0.0196\n",
            "Epoch 34 Loss 0.0280\n",
            "Time taken for 1 epoch 249.5206379890442 sec\n",
            "\n",
            "Epoch 35 Batch 0 Loss 0.0237\n",
            "Epoch 35 Batch 100 Loss 0.0365\n",
            "Epoch 35 Batch 200 Loss 0.0402\n",
            "Epoch 35 Batch 300 Loss 0.0243\n",
            "Epoch 35 Loss 0.0293\n",
            "Time taken for 1 epoch 248.81780529022217 sec\n",
            "\n",
            "Epoch 36 Batch 0 Loss 0.0423\n",
            "Epoch 36 Batch 100 Loss 0.0627\n",
            "Epoch 36 Batch 200 Loss 0.0654\n",
            "Epoch 36 Batch 300 Loss 0.0457\n",
            "Epoch 36 Loss 0.0294\n",
            "Time taken for 1 epoch 249.15655946731567 sec\n",
            "\n",
            "Epoch 37 Batch 0 Loss 0.0157\n",
            "Epoch 37 Batch 100 Loss 0.0196\n",
            "Epoch 37 Batch 200 Loss 0.0345\n",
            "Epoch 37 Batch 300 Loss 0.0392\n",
            "Epoch 37 Loss 0.0352\n",
            "Time taken for 1 epoch 249.32362246513367 sec\n",
            "\n",
            "Epoch 38 Batch 0 Loss 0.0265\n",
            "Epoch 38 Batch 100 Loss 0.0151\n",
            "Epoch 38 Batch 200 Loss 0.0129\n",
            "Epoch 38 Batch 300 Loss 0.0406\n",
            "Epoch 38 Loss 0.0336\n",
            "Time taken for 1 epoch 248.92840600013733 sec\n",
            "\n",
            "Epoch 39 Batch 0 Loss 0.0289\n",
            "Epoch 39 Batch 100 Loss 0.0283\n",
            "Epoch 39 Batch 200 Loss 0.0341\n",
            "Epoch 39 Batch 300 Loss 0.0192\n",
            "Epoch 39 Loss 0.0302\n",
            "Time taken for 1 epoch 248.84517884254456 sec\n",
            "\n",
            "Epoch 40 Batch 0 Loss 0.0226\n",
            "Epoch 40 Batch 100 Loss 0.0332\n",
            "Epoch 40 Batch 200 Loss 0.0155\n",
            "Epoch 40 Batch 300 Loss 0.0316\n",
            "Epoch 40 Loss 0.0258\n",
            "Time taken for 1 epoch 249.1468529701233 sec\n",
            "\n",
            "Epoch 41 Batch 0 Loss 0.0116\n",
            "Epoch 41 Batch 100 Loss 0.0228\n",
            "Epoch 41 Batch 200 Loss 0.0230\n",
            "Epoch 41 Batch 300 Loss 0.0349\n",
            "Epoch 41 Loss 0.0236\n",
            "Time taken for 1 epoch 248.76995372772217 sec\n",
            "\n",
            "Epoch 42 Batch 0 Loss 0.0115\n",
            "Epoch 42 Batch 100 Loss 0.0299\n",
            "Epoch 42 Batch 200 Loss 0.0334\n",
            "Epoch 42 Batch 300 Loss 0.0270\n",
            "Epoch 42 Loss 0.0234\n",
            "Time taken for 1 epoch 249.07043528556824 sec\n",
            "\n",
            "Epoch 43 Batch 0 Loss 0.0136\n",
            "Epoch 43 Batch 100 Loss 0.0196\n",
            "Epoch 43 Batch 200 Loss 0.0431\n",
            "Epoch 43 Batch 300 Loss 0.0209\n",
            "Epoch 43 Loss 0.0228\n",
            "Time taken for 1 epoch 248.67173862457275 sec\n",
            "\n",
            "Epoch 44 Batch 0 Loss 0.0168\n",
            "Epoch 44 Batch 100 Loss 0.0187\n",
            "Epoch 44 Batch 200 Loss 0.0301\n"
          ],
          "name": "stdout"
        },
        {
          "output_type": "stream",
          "text": [
            "Epoch 44 Batch 300 Loss 0.0237\n",
            "Epoch 44 Loss 0.0241\n",
            "Time taken for 1 epoch 248.84771275520325 sec\n",
            "\n",
            "Epoch 45 Batch 0 Loss 0.0206\n",
            "Epoch 45 Batch 100 Loss 0.0287\n",
            "Epoch 45 Batch 200 Loss 0.0283\n",
            "Epoch 45 Batch 300 Loss 0.0403\n",
            "Epoch 45 Loss 0.0279\n",
            "Time taken for 1 epoch 248.5033369064331 sec\n",
            "\n",
            "Epoch 46 Batch 0 Loss 0.0235\n",
            "Epoch 46 Batch 100 Loss 0.0807\n",
            "Epoch 46 Batch 200 Loss 0.0252\n",
            "Epoch 46 Batch 300 Loss 0.0529\n",
            "Epoch 46 Loss 0.0341\n",
            "Time taken for 1 epoch 248.75243878364563 sec\n",
            "\n",
            "Epoch 47 Batch 0 Loss 0.0152\n",
            "Epoch 47 Batch 100 Loss 0.0296\n",
            "Epoch 47 Batch 200 Loss 0.0319\n",
            "Epoch 47 Batch 300 Loss 0.0323\n",
            "Epoch 47 Loss 0.0352\n",
            "Time taken for 1 epoch 248.90403008460999 sec\n",
            "\n",
            "Epoch 48 Batch 0 Loss 0.0145\n",
            "Epoch 48 Batch 100 Loss 0.0473\n",
            "Epoch 48 Batch 200 Loss 0.0313\n",
            "Epoch 48 Batch 300 Loss 0.0197\n",
            "Epoch 48 Loss 0.0290\n",
            "Time taken for 1 epoch 248.73278212547302 sec\n",
            "\n",
            "Epoch 49 Batch 0 Loss 0.0195\n",
            "Epoch 49 Batch 100 Loss 0.0272\n",
            "Epoch 49 Batch 200 Loss 0.0506\n",
            "Epoch 49 Batch 300 Loss 0.0198\n",
            "Epoch 49 Loss 0.0248\n",
            "Time taken for 1 epoch 248.34415292739868 sec\n",
            "\n",
            "Epoch 50 Batch 0 Loss 0.0196\n",
            "Epoch 50 Batch 100 Loss 0.0102\n",
            "Epoch 50 Batch 200 Loss 0.0388\n",
            "Epoch 50 Batch 300 Loss 0.0179\n",
            "Epoch 50 Loss 0.0220\n",
            "Time taken for 1 epoch 248.40458059310913 sec\n",
            "\n"
          ],
          "name": "stdout"
        }
      ]
    },
    {
      "cell_type": "markdown",
      "metadata": {
        "id": "mU3Ce8M6I3rz"
      },
      "source": [
        "## Translate\n",
        "\n",
        "* The evaluate function is similar to the training loop, except we don't use *teacher forcing* here. The input to the decoder at each time step is its previous predictions along with the hidden state and the encoder output.\n",
        "* Stop predicting when the model predicts the *end token*.\n",
        "* And store the *attention weights for every time step*.\n",
        "\n",
        "Note: The encoder output is calculated only once for one input."
      ]
    },
    {
      "cell_type": "code",
      "metadata": {
        "id": "EbQpyYs13jF_"
      },
      "source": [
        "def evaluate(sentence):\n",
        "  attention_plot = np.zeros((max_length_targ, max_length_inp))\n",
        "\n",
        "  sentence = preprocess_sentence(sentence)\n",
        "\n",
        "  inputs = [inp_lang.word_index[i] for i in sentence.split(' ')]\n",
        "  inputs = tf.keras.preprocessing.sequence.pad_sequences([inputs],\n",
        "                                                         maxlen=max_length_inp,\n",
        "                                                         padding='post')\n",
        "  inputs = tf.convert_to_tensor(inputs)\n",
        "\n",
        "  result = ''\n",
        "\n",
        "  hidden = [tf.zeros((1, units))]\n",
        "  enc_out, enc_hidden = encoder(inputs, hidden)\n",
        "\n",
        "  dec_hidden = enc_hidden\n",
        "  dec_input = tf.expand_dims([targ_lang.word_index['<start>']], 0)\n",
        "\n",
        "  for t in range(max_length_targ):\n",
        "    predictions, dec_hidden, attention_weights = decoder(dec_input,\n",
        "                                                         dec_hidden,\n",
        "                                                         enc_out)\n",
        "\n",
        "    # storing the attention weights to plot later on\n",
        "    attention_weights = tf.reshape(attention_weights, (-1, ))\n",
        "    attention_plot[t] = attention_weights.numpy()\n",
        "\n",
        "    predicted_id = tf.argmax(predictions[0]).numpy()\n",
        "\n",
        "    result += targ_lang.index_word[predicted_id] + ' '\n",
        "\n",
        "    if targ_lang.index_word[predicted_id] == '<end>':\n",
        "      return result, sentence, attention_plot\n",
        "\n",
        "    # the predicted ID is fed back into the model\n",
        "    dec_input = tf.expand_dims([predicted_id], 0)\n",
        "\n",
        "  return result, sentence, attention_plot"
      ],
      "execution_count": null,
      "outputs": []
    },
    {
      "cell_type": "code",
      "metadata": {
        "id": "s5hQWlbN3jGF"
      },
      "source": [
        "# function for plotting the attention weights\n",
        "def plot_attention(attention, sentence, predicted_sentence):\n",
        "  fig = plt.figure(figsize=(10,10))\n",
        "  ax = fig.add_subplot(1, 1, 1)\n",
        "  ax.matshow(attention, cmap='viridis')\n",
        "\n",
        "  fontdict = {'fontsize': 14}\n",
        "\n",
        "  ax.set_xticklabels([''] + sentence, fontdict=fontdict, rotation=90)\n",
        "  ax.set_yticklabels([''] + predicted_sentence, fontdict=fontdict)\n",
        "\n",
        "  ax.xaxis.set_major_locator(ticker.MultipleLocator(1))\n",
        "  ax.yaxis.set_major_locator(ticker.MultipleLocator(1))\n",
        "\n",
        "  plt.show()"
      ],
      "execution_count": null,
      "outputs": []
    },
    {
      "cell_type": "code",
      "metadata": {
        "id": "sl9zUHzg3jGI"
      },
      "source": [
        "def translate(sentence):\n",
        "  result, sentence, attention_plot = evaluate(sentence)\n",
        "\n",
        "  print('Input: %s' % (sentence))\n",
        "  print('Predicted translation: {}'.format(result))\n",
        "\n",
        "  attention_plot = attention_plot[:len(result.split(' ')), :len(sentence.split(' '))]\n",
        "  plot_attention(attention_plot, sentence.split(' '), result.split(' '))"
      ],
      "execution_count": null,
      "outputs": []
    },
    {
      "cell_type": "markdown",
      "metadata": {
        "id": "n250XbnjOaqP"
      },
      "source": [
        "## Restore the latest checkpoint and test"
      ]
    },
    {
      "cell_type": "code",
      "metadata": {
        "id": "UJpT9D5_OgP6",
        "outputId": "86b79cee-dcf6-461a-cebb-0185bb0b452a"
      },
      "source": [
        "# restoring the latest checkpoint in checkpoint_dir\n",
        "checkpoint.restore(tf.train.latest_checkpoint(checkpoint_dir))"
      ],
      "execution_count": null,
      "outputs": [
        {
          "output_type": "execute_result",
          "data": {
            "text/plain": [
              "<tensorflow.python.training.tracking.util.CheckpointLoadStatus at 0x7fd544339490>"
            ]
          },
          "metadata": {
            "tags": []
          },
          "execution_count": 56
        }
      ]
    },
    {
      "cell_type": "code",
      "metadata": {
        "id": "WrAM0FDomq3E",
        "outputId": "e5dd0b8b-2693-4455-fcba-42e9edb6a0f7"
      },
      "source": [
        "translate(u'vamos todos a mi casa .')"
      ],
      "execution_count": null,
      "outputs": [
        {
          "output_type": "stream",
          "text": [
            "Input: <start> vamos todos a mi casa . <end>\n",
            "Predicted translation: we re all my place . <end> \n"
          ],
          "name": "stdout"
        },
        {
          "output_type": "stream",
          "text": [
            "<ipython-input-45-ef64c003f9d5>:9: UserWarning: FixedFormatter should only be used together with FixedLocator\n",
            "  ax.set_xticklabels([''] + sentence, fontdict=fontdict, rotation=90)\n",
            "<ipython-input-45-ef64c003f9d5>:10: UserWarning: FixedFormatter should only be used together with FixedLocator\n",
            "  ax.set_yticklabels([''] + predicted_sentence, fontdict=fontdict)\n"
          ],
          "name": "stderr"
        },
        {
          "output_type": "display_data",
          "data": {
            "image/png": "[encoded data removed]",
            "text/plain": [
              "<Figure size 720x720 with 1 Axes>"
            ]
          },
          "metadata": {
            "tags": [],
            "needs_background": "light"
          }
        }
      ]
    },
    {
      "cell_type": "code",
      "metadata": {
        "id": "zSx2iM36EZQZ",
        "outputId": "6a27201d-b9a3-4b55-cc82-a95598317eda"
      },
      "source": [
        "translate(u'esta es mi vida.')"
      ],
      "execution_count": null,
      "outputs": [
        {
          "output_type": "stream",
          "text": [
            "Input: <start> esta es mi vida . <end>\n",
            "Predicted translation: this is my life . <end> \n"
          ],
          "name": "stdout"
        },
        {
          "output_type": "stream",
          "text": [
            "<ipython-input-45-ef64c003f9d5>:9: UserWarning: FixedFormatter should only be used together with FixedLocator\n",
            "  ax.set_xticklabels([''] + sentence, fontdict=fontdict, rotation=90)\n",
            "<ipython-input-45-ef64c003f9d5>:10: UserWarning: FixedFormatter should only be used together with FixedLocator\n",
            "  ax.set_yticklabels([''] + predicted_sentence, fontdict=fontdict)\n"
          ],
          "name": "stderr"
        },
        {
          "output_type": "display_data",
          "data": {
            "image/png": "[encoded data removed]",
            "text/plain": [
              "<Figure size 720x720 with 1 Axes>"
            ]
          },
          "metadata": {
            "tags": [],
            "needs_background": "light"
          }
        }
      ]
    },
    {
      "cell_type": "code",
      "metadata": {
        "id": "A3LLCx3ZE0Ls",
        "outputId": "23495d36-ef34-49db-aae3-3db2deb5d209"
      },
      "source": [
        "translate(u'¿todavia estan en casa?')"
      ],
      "execution_count": null,
      "outputs": [
        {
          "output_type": "stream",
          "text": [
            "Input: <start> ¿ todavia estan en casa ? <end>\n",
            "Predicted translation: are you still home ? <end> \n"
          ],
          "name": "stdout"
        },
        {
          "output_type": "stream",
          "text": [
            "<ipython-input-45-ef64c003f9d5>:9: UserWarning: FixedFormatter should only be used together with FixedLocator\n",
            "  ax.set_xticklabels([''] + sentence, fontdict=fontdict, rotation=90)\n",
            "<ipython-input-45-ef64c003f9d5>:10: UserWarning: FixedFormatter should only be used together with FixedLocator\n",
            "  ax.set_yticklabels([''] + predicted_sentence, fontdict=fontdict)\n"
          ],
          "name": "stderr"
        },
        {
          "output_type": "display_data",
          "data": {
            "image/png": "[encoded data removed]",
            "text/plain": [
              "<Figure size 720x720 with 1 Axes>"
            ]
          },
          "metadata": {
            "tags": [],
            "needs_background": "light"
          }
        }
      ]
    },
    {
      "cell_type": "code",
      "metadata": {
        "id": "yS3v55wCQ7bo",
        "outputId": "1b901ede-75c1-49c2-b1c2-e47da11a8120"
      },
      "source": [
        "translate(u'este día estoy muy feliz')"
      ],
      "execution_count": null,
      "outputs": [
        {
          "output_type": "stream",
          "text": [
            "Input: <start> este dia estoy muy feliz <end>\n",
            "Predicted translation: this day is very happy . <end> \n"
          ],
          "name": "stdout"
        },
        {
          "output_type": "stream",
          "text": [
            "<ipython-input-45-ef64c003f9d5>:9: UserWarning: FixedFormatter should only be used together with FixedLocator\n",
            "  ax.set_xticklabels([''] + sentence, fontdict=fontdict, rotation=90)\n",
            "<ipython-input-45-ef64c003f9d5>:10: UserWarning: FixedFormatter should only be used together with FixedLocator\n",
            "  ax.set_yticklabels([''] + predicted_sentence, fontdict=fontdict)\n"
          ],
          "name": "stderr"
        },
        {
          "output_type": "display_data",
          "data": {
            "image/png": "[encoded data removed]",
            "text/plain": [
              "<Figure size 720x720 with 1 Axes>"
            ]
          },
          "metadata": {
            "tags": [],
            "needs_background": "light"
          }
        }
      ]
    },
    {
      "cell_type": "code",
      "metadata": {
        "id": "DUQVLVqUE1YW",
        "outputId": "a7d8333b-0a92-4901-e713-3cf941bd7c71"
      },
      "source": [
        "# wrong translation\n",
        "translate(u'trata de averiguarlo.')"
      ],
      "execution_count": null,
      "outputs": [
        {
          "output_type": "stream",
          "text": [
            "Input: <start> trata de averiguarlo . <end>\n",
            "Predicted translation: try to figure it out . <end> \n"
          ],
          "name": "stdout"
        },
        {
          "output_type": "stream",
          "text": [
            "<ipython-input-45-ef64c003f9d5>:9: UserWarning: FixedFormatter should only be used together with FixedLocator\n",
            "  ax.set_xticklabels([''] + sentence, fontdict=fontdict, rotation=90)\n",
            "<ipython-input-45-ef64c003f9d5>:10: UserWarning: FixedFormatter should only be used together with FixedLocator\n",
            "  ax.set_yticklabels([''] + predicted_sentence, fontdict=fontdict)\n"
          ],
          "name": "stderr"
        },
        {
          "output_type": "display_data",
          "data": {
            "image/png": "[encoded data removed]",
            "text/plain": [
              "<Figure size 720x720 with 1 Axes>"
            ]
          },
          "metadata": {
            "tags": [],
            "needs_background": "light"
          }
        }
      ]
    },
    {
      "cell_type": "markdown",
      "metadata": {
        "id": "RTe5P5ioMJwN"
      },
      "source": [
        "## Next steps\n",
        "\n",
        "* [Download a different dataset](http://www.manythings.org/anki/) to experiment with translations, for example, English to German, or English to French.\n",
        "* Experiment with training on a larger dataset, or using more epochs\n"
      ]
    }
  ]
}