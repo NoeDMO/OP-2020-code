{
  "nbformat": 4,
  "nbformat_minor": 0,
  "metadata": {
    "colab": {
      "name": "1) Taller Keras (keras vs TF2).ipynb",
      "provenance": [],
      "collapsed_sections": [],
      "include_colab_link": true
    },
    "kernelspec": {
      "name": "python3",
      "display_name": "Python 3"
    }
  },
  "cells": [
    {
      "cell_type": "markdown",
      "metadata": {
        "id": "view-in-github",
        "colab_type": "text"
      },
      "source": [
        "<a href=\"https://colab.research.google.com/github/victorm0202/OP-2020-code/blob/master/1)_Taller_Keras_(keras_vs_TF2).ipynb\" target=\"_parent\"><img src=\"https://colab.research.google.com/assets/colab-badge.svg\" alt=\"Open In Colab\"/></a>"
      ]
    },
    {
      "cell_type": "markdown",
      "metadata": {
        "id": "ymbrFX0SDt0S",
        "colab_type": "text"
      },
      "source": [
        "### Keras vs Tensorflow 2"
      ]
    },
    {
      "cell_type": "markdown",
      "metadata": {
        "id": "OffNQcXiEtQ4",
        "colab_type": "text"
      },
      "source": [
        "\n",
        "\n",
        "*   Tensorflow 2 (`tf.keras`) vs Keras (`keras`)\n",
        "*   Keras Modelo `tf.keras.Models.Sequence()`\n",
        "*   Keras API\n",
        "\n"
      ]
    },
    {
      "cell_type": "markdown",
      "metadata": {
        "id": "_ETkaq0dD_O1",
        "colab_type": "text"
      },
      "source": [
        "\n",
        "\n",
        "> TensorFlow 2.0 lanzado el 30 de Septiembre del 2019. Mucho de los códigos de TensorFLow 1.x  deberan migrar a Tensorflow 2. ¿Cuál es la diferencia entre installar `keras` y utilizar `tf.keras`?.\n",
        "\n",
        "> Keras fue desarrollado por Francois Chillet, un desarrollador de Google AI. La primera versión lo lanzo con propositos personales en su repertorio Github en Marzo del 2015. Por su facílidad y popularidad el proyecto de Chollet fue escalado inclusive con la existencia de librerías como Torch, Theano, y Caffe. Las librerías mencionadas tenían el problema de ser tediosas , tardadas e ineficintes. En cambio, keras es facíl de utilizar para aquellas personas que no necesariamente son del área.\n",
        "\n",
        "\n",
        "\n",
        "> Keras, necesita de un *backend* para poder correr y configurar arquitecturas del tipo redes neuronales. Pero, ¿Qué es un backend?, es un motor computacional, que en este caso construye el grafo de la red, ejecuta optimizadores y realiza el procesamiento en tiempo real. (eg. PHP language y que puede acceder a un DB, donde DB puede ser MySQL que funciona como el backend). Entonces, piensa en keras como una capa abstracta que se comunica con cierto framework o backend.\n",
        "\n",
        "> Indented block\n",
        "\n",
        "\n",
        "\n",
        "> Originalmente Keras utilizaba Theano como backend pero fue así hasta la versión v1.1.0. Tiempo despues, Google pueso a en la mesa TensorFLow, librería en la cual se puede hacer calculos simbolicos y utilizar para tareas de ML y DL.\n",
        "\n",
        "> TernsorFLow comenzó a ser el backend de Keras, y en la actualidad se popularizo tanto que por default hablar de keras es hablar de TensorFLow. Practicamente, si tu instalas keras por default TensorFlow se instala en tu sistema.\n",
        "\n",
        "\n",
        "\n",
        "> El submodulo conocido como `tf.keras` fue introducido en TensorFlow v1.10.0, siendo el primer paso para integrar Keras con TensorFLow de manera directa. EL paquete `tf.keras`  se encuentra totalmente separado del paquete `keras` paquete que puedes instalar y utilizar con `pip install keras`. Cabe mencionar que el paquete keras original no se incluyó en tensorflow para garantizar la compatibilidad y para que ambos pudieran desarrollarse orgánicamente.\n",
        "\n",
        "> No obstante, con el anunción de Google en el 2019, keras se integra a TensorFLow como su API para facílitar el diseño de las redes. Con esto, No obstante, con el anuncio de Google y TensorFlow 2.0 (Junio 2019), declararon a keras como la API oficial de alto nivel para TensorFLow, para un facíl uso y entrenamiento.De esta manera, se logra la sincronización de  `keras` y `tf.keras`.\n",
        "\n",
        "> Entonces para que esto, pues `keras` seguira areglando algunos bugs pero se pretende de que ya no sea así, entonces es recomendable que trabajen con `tf.keras`.\n",
        "\n",
        "\n",
        "\n",
        "> Entonces se recoienda importar :\n",
        "\n",
        "> `from tensorflow.keras import ...`\n",
        "\n",
        "> Entre otra peculiaridad que veran después el uso de `Seesions` es sustituido por `GradientTape`, y en caso de tener código en TensorFLow v1, Google a lanzado un scipt llamado `tf_upgrade_v2`, el cual analiza tu código y te indica que lineas debe actualizar.\n",
        "\n",
        "> Un poco a al parrafo anterior, en ocasiones uno requiere trabajar de forma dinámica sobre los grafos comutacionales que te genera TensorFLow, por lo regular uo puede no utilizar una capa de alto nivel de abstracción, como lo es keras, y computar por si mismo el dessarrollo de la red por medio de generar sesiones e inicializar el grafo.\n",
        "\n",
        "\n",
        "\n",
        "\n",
        "\n",
        "\n",
        "\n",
        "\n",
        "\n",
        "\n",
        "\n",
        "\n",
        "\n",
        "\n",
        "\n",
        "\n",
        "\n",
        "\n",
        "\n",
        "\n",
        "\n",
        "\n",
        "\n",
        "\n",
        "\n",
        "\n",
        "\n",
        "\n",
        "\n"
      ]
    },
    {
      "cell_type": "code",
      "metadata": {
        "id": "i1nRrdRSNMd1",
        "colab_type": "code",
        "colab": {}
      },
      "source": [
        "with tf.Session() as session:\n",
        "\tsession.run(tf.global_variables_initializer())\n",
        "\tsession.run(tf.tables_initializer())\n",
        "\tmodel.fit(X_train, y_train, validation_data=(X_valid, y_valid),\n",
        "\t\tepochs=10, batch_size=64)"
      ],
      "execution_count": null,
      "outputs": []
    },
    {
      "cell_type": "markdown",
      "metadata": {
        "id": "jtOq1G1jNZeI",
        "colab_type": "text"
      },
      "source": [
        "Ahora TensorFlow's eager execution, es un ambiente de programación que evalua operaciones de forma inmediatas, sin construir el grafo computacional. La operación te devuelve valores concretos en vez de construir el grafo y correr despues, esto es algo muy similar a como trabaja Pytorch.\n",
        "\n",
        "Una referencia se encuentra aquí : https://www.tensorflow.org/guide/eager"
      ]
    },
    {
      "cell_type": "code",
      "metadata": {
        "id": "fPCB9TRBRB0w",
        "colab_type": "code",
        "colab": {
          "base_uri": "https://localhost:8080/",
          "height": 84
        },
        "outputId": "bcebfb81-b618-4952-e35a-1d78ec54e732"
      },
      "source": [
        "%tensorflow_version"
      ],
      "execution_count": null,
      "outputs": [
        {
          "output_type": "stream",
          "text": [
            "Currently selected TF version: 2.x\n",
            "Available versions:\n",
            "* 1.x\n",
            "* 2.x\n"
          ],
          "name": "stdout"
        }
      ]
    },
    {
      "cell_type": "code",
      "metadata": {
        "id": "l-9K0lrTN-mC",
        "colab_type": "code",
        "colab": {
          "base_uri": "https://localhost:8080/",
          "height": 33
        },
        "outputId": "70ba0ffc-a730-4447-b7fa-6004a7281550"
      },
      "source": [
        "import os\n",
        "import tensorflow as tf\n",
        "tf.executing_eagerly()"
      ],
      "execution_count": null,
      "outputs": [
        {
          "output_type": "execute_result",
          "data": {
            "text/plain": [
              "True"
            ]
          },
          "metadata": {
            "tags": []
          },
          "execution_count": 1
        }
      ]
    },
    {
      "cell_type": "markdown",
      "metadata": {
        "id": "KxroNrL2OLow",
        "colab_type": "text"
      },
      "source": [
        "Ya puedes correr TensorFLow de forma operativa y el resultado se ejecuta de forma inmediate\n"
      ]
    },
    {
      "cell_type": "code",
      "metadata": {
        "id": "E-bJbYA5OJey",
        "colab_type": "code",
        "colab": {
          "base_uri": "https://localhost:8080/",
          "height": 33
        },
        "outputId": "27583f29-9783-4047-8ab0-ef0c2a4c9fc6"
      },
      "source": [
        "x = [[2.]]\n",
        "m = tf.matmul(x, x)\n",
        "print(\"hello, {}\".format(m))"
      ],
      "execution_count": null,
      "outputs": [
        {
          "output_type": "stream",
          "text": [
            "hello, [[4.]]\n"
          ],
          "name": "stdout"
        }
      ]
    },
    {
      "cell_type": "markdown",
      "metadata": {
        "id": "U2TZUvwVOjzQ",
        "colab_type": "text"
      },
      "source": [
        "Un objeto Session encapsula el entorno en el que se ejecutan los objetos Operation y se evalúan los objetos Tensor. Por ejemplo:\n"
      ]
    },
    {
      "cell_type": "code",
      "metadata": {
        "id": "GG-o_2dqOnWa",
        "colab_type": "code",
        "colab": {
          "base_uri": "https://localhost:8080/",
          "height": 33
        },
        "outputId": "ee0a1393-36ee-47cf-cb20-65b6abbca064"
      },
      "source": [
        "tf.compat.v1.disable_eager_execution() # desconectar eager en  TF2.x\n",
        "# Constuirmos el grafo\n",
        "a = tf.constant(2.0)\n",
        "c = a * a\n",
        "\n",
        "# inicializamos el grafo\n",
        "sess = tf.compat.v1.Session()\n",
        "\n",
        "# evaluamos el tensor\n",
        "print(\"hello, {}\".format(sess.run(c)))\n",
        "\n",
        "sess.close()"
      ],
      "execution_count": null,
      "outputs": [
        {
          "output_type": "stream",
          "text": [
            "hello, 4.0\n"
          ],
          "name": "stdout"
        }
      ]
    },
    {
      "cell_type": "markdown",
      "metadata": {
        "id": "K936eqZPPJw7",
        "colab_type": "text"
      },
      "source": [
        "Más adelante, necesitaran el concepto de diferenciación automática que de forma general es una técnica de difereniación computacional que evaluan derivadas de cierta función por medio de un grafo computacional. Lo que tienen que saber aqui es que en TensorFLow 2, `tf.GradientTape` es el método encargado en entrenar o computar el gradiente de cierta función de manera dinámica (eger)\n",
        "Sobre todo para entrenamientos más complejos en loop.\n"
      ]
    },
    {
      "cell_type": "code",
      "metadata": {
        "id": "_fGUpz_qQDZK",
        "colab_type": "code",
        "colab": {}
      },
      "source": [
        "import tensorflow as tf\n",
        "x = tf.constant(3.0)\n",
        "with tf.GradientTape() as g:\n",
        "  g.watch(x)\n",
        "  with tf.GradientTape() as gg:\n",
        "    gg.watch(x)\n",
        "    y = x * x\n",
        "dy_dx = gg.gradient(y, x)     # Will compute to 6.0\n",
        "d2y_dx2 = g.gradient(dy_dx, x)  # Will compute to 2.0"
      ],
      "execution_count": null,
      "outputs": []
    },
    {
      "cell_type": "code",
      "metadata": {
        "id": "ofBrjUtATOZl",
        "colab_type": "code",
        "colab": {}
      },
      "source": [
        "x = tf.constant(3.0)\n",
        "with tf.GradientTape() as g:\n",
        "  g.watch(x)\n",
        "  y = x * x\n",
        "dy_dx = g.gradient(y, x) # Will compute to 6.0"
      ],
      "execution_count": null,
      "outputs": []
    },
    {
      "cell_type": "code",
      "metadata": {
        "id": "8EaUaf1LVB-W",
        "colab_type": "code",
        "colab": {}
      },
      "source": [
        "x = tf.constant(3.0)\n",
        "with tf.GradientTape() as g:\n",
        "  g.watch(x)\n",
        "  with tf.GradientTape() as gg:\n",
        "    gg.watch(x)\n",
        "    y = x * x \n",
        "  dy_dx = gg.gradient(y, x)     # Will compute to 6.0\n",
        "d2y_dx2 = g.gradient(dy_dx, x)"
      ],
      "execution_count": null,
      "outputs": []
    },
    {
      "cell_type": "code",
      "metadata": {
        "id": "J6cYLOksUC_2",
        "colab_type": "code",
        "colab": {
          "base_uri": "https://localhost:8080/",
          "height": 33
        },
        "outputId": "d3b2aa43-6a5f-4d25-e342-3b3166ad9626"
      },
      "source": [
        "print(d2y_dx2)"
      ],
      "execution_count": null,
      "outputs": [
        {
          "output_type": "stream",
          "text": [
            "tf.Tensor(2.0, shape=(), dtype=float32)\n"
          ],
          "name": "stdout"
        }
      ]
    },
    {
      "cell_type": "markdown",
      "metadata": {
        "id": "pyQ_89jvp37I",
        "colab_type": "text"
      },
      "source": [
        "## ¿Cómo declarar un Modelo ?"
      ]
    },
    {
      "cell_type": "markdown",
      "metadata": {
        "id": "jmi-qkisqHER",
        "colab_type": "text"
      },
      "source": [
        "*  TensorFlow, Google Engineers opted for a static computational graph\n",
        "* TF you define graph statically before a model can run, all communication with outer world is performed via tf.Session object and tf.Placeholder which are tensors that will be substituted by external data at runtime.\n",
        "\n",
        "* “PyTorch”, developed and maintained by Facebook, uses a dynamic computational graph approach. In PyTorch things are way more imperative and dynamic: you can define, change and execute nodes as you go, no special session interfaces or placeholders\n",
        "\n",
        "* Google realised this, and with v1.7 launched the feature of “Eager Execution” in TensorFlow.\n",
        "\n",
        "What is Eager Execution?\n",
        "\n",
        "Features of Eager Execution?\n",
        "It is compatible with native Python debugging tools\n",
        "Error logging is immediate\n",
        "Native Python control flow i.e loops and recursions\n",
        "Eager execution simplifies your code\n",
        "Back propagation is built in to eager execution\n",
        "\n",
        "“A NumPy-like library for numerical computation with support for GPU acceleration and automatic differentiation, and a flexible platform for machine learning research and experimentation.”"
      ]
    },
    {
      "cell_type": "code",
      "metadata": {
        "id": "ZrZmluH-p79C",
        "colab_type": "code",
        "colab": {
          "base_uri": "https://localhost:8080/",
          "height": 33
        },
        "outputId": "894be4be-da0f-4705-c8ab-b585488f0a93"
      },
      "source": [
        "# Importing stuff and enabling Eager Execution\n",
        "import tensorflow as tf\n",
        "tf.executing_eagerly()"
      ],
      "execution_count": null,
      "outputs": [
        {
          "output_type": "execute_result",
          "data": {
            "text/plain": [
              "True"
            ]
          },
          "metadata": {
            "tags": []
          },
          "execution_count": 10
        }
      ]
    },
    {
      "cell_type": "markdown",
      "metadata": {
        "id": "a9ERDDsC4eN_",
        "colab_type": "text"
      },
      "source": [
        "* Superclass it allows you to call methods of the superclass in your subclass.\n",
        "\n",
        "* The __call__() method of your layer will automatically run build the first time it is called. You now have a layer that's lazy and thus easier to use:"
      ]
    },
    {
      "cell_type": "code",
      "metadata": {
        "id": "461_kwbox0mR",
        "colab_type": "code",
        "colab": {}
      },
      "source": [
        "# Definimos la clase modelo heredando las métodos de keras.Model\n",
        "# Definimos la super clase para inicializar \n",
        "# All superclass, Linear Subclass\n",
        "class Linear(tf.keras.Model): \n",
        "  def __init__(self):\n",
        "    super(Linear, self).__init__()\n",
        "    self.W = tf.Variable(5., name='weight')\n",
        "    self.B = tf.Variable(10., name='bias')\n",
        "\n",
        "  def call(self, inputs):\n",
        "    return inputs * self.W + self.B\n",
        "\n",
        "# More in : https://www.tensorflow.org/guide/keras/custom_layers_and_models    "
      ],
      "execution_count": null,
      "outputs": []
    },
    {
      "cell_type": "code",
      "metadata": {
        "id": "svv7-1Nfx18u",
        "colab_type": "code",
        "colab": {}
      },
      "source": [
        "# A toy dataset of points around 3 * x + 2 + epsilon\n",
        "NUM_EXAMPLES = 2000\n",
        "training_inputs = tf.random.normal([NUM_EXAMPLES])\n",
        "noise = tf.random.normal([NUM_EXAMPLES])\n",
        "training_outputs = training_inputs * 3 + 2 + noise\n",
        "\n",
        "# The loss function to be optimized\n",
        "def loss(model, inputs, targets):\n",
        "  error = model(inputs) - targets\n",
        "  return tf.reduce_mean(tf.square(error)) # RMSE\n",
        "\n",
        "#Here tf.GradientTape records all the operations in the forward pass to apply gradient later.\n",
        "# tape.gradient function return the derivative of loss with respect to weight and bias. \n",
        "def grad(model, inputs, targets):\n",
        "  with tf.GradientTape() as tape:\n",
        "    loss_value = loss(model, inputs, targets)\n",
        "  return tape.gradient(loss_value, [model.W, model.B])"
      ],
      "execution_count": null,
      "outputs": []
    },
    {
      "cell_type": "markdown",
      "metadata": {
        "id": "519wqjgPx9Zn",
        "colab_type": "text"
      },
      "source": [
        "Next:\n",
        "\n",
        "Create the model.\n",
        "The Derivatives of a loss function with respect to model parameters.\n",
        "A strategy for updating the variables based on the derivatives."
      ]
    },
    {
      "cell_type": "code",
      "metadata": {
        "id": "cHM3o31gx8-f",
        "colab_type": "code",
        "colab": {
          "base_uri": "https://localhost:8080/",
          "height": 284
        },
        "outputId": "858389c7-77ea-412a-e4ae-c7fbdd4fa0b8"
      },
      "source": [
        "model = Linear() # nstace the class\n",
        "optimizer = tf.keras.optimizers.SGD(learning_rate=0.01) \n",
        "\n",
        "print(\"Initial loss: {:.3f}\".format(loss(model, training_inputs, training_outputs)))\n",
        "# Then passing this to optimizer.apply_gradients completes the process of applying gradient descent.\n",
        "steps = 300\n",
        "for i in range(steps):\n",
        "  grads = grad(model, training_inputs, training_outputs)\n",
        "  optimizer.apply_gradients(zip(grads, [model.W, model.B]))\n",
        "  if i % 20 == 0:\n",
        "    print(\"Loss at step {:03d}: {:.3f}\".format(i, loss(model, training_inputs, training_outputs)))\n",
        " "
      ],
      "execution_count": null,
      "outputs": [
        {
          "output_type": "stream",
          "text": [
            "Initial loss: 66.612\n",
            "Loss at step 000: 64.073\n",
            "Loss at step 020: 29.674\n",
            "Loss at step 040: 14.065\n",
            "Loss at step 060: 6.970\n",
            "Loss at step 080: 3.739\n",
            "Loss at step 100: 2.265\n",
            "Loss at step 120: 1.592\n",
            "Loss at step 140: 1.284\n",
            "Loss at step 160: 1.143\n",
            "Loss at step 180: 1.078\n",
            "Loss at step 200: 1.049\n",
            "Loss at step 220: 1.035\n",
            "Loss at step 240: 1.028\n",
            "Loss at step 260: 1.026\n",
            "Loss at step 280: 1.024\n"
          ],
          "name": "stdout"
        }
      ]
    },
    {
      "cell_type": "code",
      "metadata": {
        "id": "rAfsmNpeyDcf",
        "colab_type": "code",
        "colab": {
          "base_uri": "https://localhost:8080/",
          "height": 33
        },
        "outputId": "40cad63d-2138-4ff2-dc6e-7ff7a702882d"
      },
      "source": [
        "print(\"Final loss: {:.3f}\".format(loss(model, training_inputs, training_outputs)))"
      ],
      "execution_count": null,
      "outputs": [
        {
          "output_type": "stream",
          "text": [
            "Final loss: 1.024\n"
          ],
          "name": "stdout"
        }
      ]
    },
    {
      "cell_type": "code",
      "metadata": {
        "id": "_SzUYtdOyDVB",
        "colab_type": "code",
        "colab": {
          "base_uri": "https://localhost:8080/",
          "height": 33
        },
        "outputId": "2e149dab-fbdf-4eea-ecb5-e50238c43d65"
      },
      "source": [
        "print(\"W = {}, B = {}\".format(model.W.numpy(), model.B.numpy()))"
      ],
      "execution_count": null,
      "outputs": [
        {
          "output_type": "stream",
          "text": [
            "W = 3.022151231765747, B = 2.063232660293579\n"
          ],
          "name": "stdout"
        }
      ]
    },
    {
      "cell_type": "code",
      "metadata": {
        "id": "AThFJY-MyHWE",
        "colab_type": "code",
        "colab": {}
      },
      "source": [
        "model.save_weights('weights')\n",
        "status = model.load_weights('weights')"
      ],
      "execution_count": null,
      "outputs": []
    },
    {
      "cell_type": "markdown",
      "metadata": {
        "id": "7yHfw2fGxukn",
        "colab_type": "text"
      },
      "source": [
        "## Combine Keras and Eager train\n"
      ]
    },
    {
      "cell_type": "code",
      "metadata": {
        "id": "lEXxrW1iuZ9P",
        "colab_type": "code",
        "colab": {}
      },
      "source": [
        "# Fetch and format the mnist data\n",
        "(mnist_images, mnist_labels), _ = tf.keras.datasets.mnist.load_data()\n",
        "\n",
        "dataset = tf.data.Dataset.from_tensor_slices(\n",
        "  (tf.cast(mnist_images[...,tf.newaxis]/255, tf.float32),\n",
        "   tf.cast(mnist_labels,tf.int64)))\n",
        "dataset = dataset.shuffle(1000).batch(32)"
      ],
      "execution_count": null,
      "outputs": []
    },
    {
      "cell_type": "code",
      "metadata": {
        "id": "tDC9y5xXvuO0",
        "colab_type": "code",
        "colab": {}
      },
      "source": [
        "# Build the model\n",
        "mnist_model = tf.keras.Sequential([\n",
        "  tf.keras.layers.Conv2D(16,[3,3], activation='relu',\n",
        "                         input_shape=(None, None, 1)),\n",
        "  tf.keras.layers.Conv2D(16,[3,3], activation='relu'),\n",
        "  tf.keras.layers.GlobalAveragePooling2D(),\n",
        "  tf.keras.layers.Dense(10)\n",
        "])"
      ],
      "execution_count": null,
      "outputs": []
    },
    {
      "cell_type": "code",
      "metadata": {
        "id": "y2QcnSeivxgp",
        "colab_type": "code",
        "colab": {
          "base_uri": "https://localhost:8080/",
          "height": 50
        },
        "outputId": "d02623bf-54ac-410f-80a2-7c7ac674fe53"
      },
      "source": [
        "for images,labels in dataset.take(1):\n",
        "  print(\"Logits: \", mnist_model(images[0:1]).numpy())"
      ],
      "execution_count": null,
      "outputs": [
        {
          "output_type": "stream",
          "text": [
            "Logits:  [[ 0.00343771 -0.01540999 -0.02027049 -0.05441063  0.02483962 -0.00510653\n",
            "  -0.04519472 -0.01601397 -0.07347655  0.03244074]]\n"
          ],
          "name": "stdout"
        }
      ]
    },
    {
      "cell_type": "code",
      "metadata": {
        "id": "-bblhs1sv6Yv",
        "colab_type": "code",
        "colab": {}
      },
      "source": [
        "# While keras models have a builtin training loop (using the fit method), sometimes you need more customization. Here's an example, of a training loop implemented with eager:\n",
        "optimizer = tf.keras.optimizers.Adam()\n",
        "loss_object = tf.keras.losses.SparseCategoricalCrossentropy(from_logits=True)\n",
        "\n",
        "loss_history = []"
      ],
      "execution_count": null,
      "outputs": []
    },
    {
      "cell_type": "code",
      "metadata": {
        "id": "XuzNzAp7v-7g",
        "colab_type": "code",
        "colab": {}
      },
      "source": [
        "def train_step(images, labels):\n",
        "  with tf.GradientTape() as tape:\n",
        "    logits = mnist_model(images, training=True)\n",
        "    \n",
        "    # Add asserts to check the shape of the output.\n",
        "    tf.debugging.assert_equal(logits.shape, (32, 10))\n",
        "    \n",
        "    loss_value = loss_object(labels, logits)\n",
        "\n",
        "  loss_history.append(loss_value.numpy().mean())\n",
        "  grads = tape.gradient(loss_value, mnist_model.trainable_variables)\n",
        "  optimizer.apply_gradients(zip(grads, mnist_model.trainable_variables))"
      ],
      "execution_count": null,
      "outputs": []
    },
    {
      "cell_type": "code",
      "metadata": {
        "id": "8fpq1Tr-xSKU",
        "colab_type": "code",
        "colab": {}
      },
      "source": [
        "def train(epochs):\n",
        "  for epoch in range(epochs):\n",
        "    for (batch, (images, labels)) in enumerate(dataset):\n",
        "      train_step(images, labels)\n",
        "    print ('Epoch {} finished'.format(epoch))"
      ],
      "execution_count": null,
      "outputs": []
    },
    {
      "cell_type": "code",
      "metadata": {
        "id": "2Hi0UJLVxZ7-",
        "colab_type": "code",
        "colab": {
          "base_uri": "https://localhost:8080/",
          "height": 67
        },
        "outputId": "12abc8c8-c30a-44eb-e220-64929701ec63"
      },
      "source": [
        "train(epochs = 3)"
      ],
      "execution_count": null,
      "outputs": [
        {
          "output_type": "stream",
          "text": [
            "Epoch 0 finished\n",
            "Epoch 1 finished\n",
            "Epoch 2 finished\n"
          ],
          "name": "stdout"
        }
      ]
    },
    {
      "cell_type": "code",
      "metadata": {
        "id": "3g2P_Ulhxchi",
        "colab_type": "code",
        "colab": {
          "base_uri": "https://localhost:8080/",
          "height": 296
        },
        "outputId": "06b0a62d-3dcf-4474-d8eb-6a9c7946b983"
      },
      "source": [
        "import matplotlib.pyplot as plt\n",
        "\n",
        "plt.plot(loss_history)\n",
        "plt.xlabel('Batch #')\n",
        "plt.ylabel('Loss [entropy]')"
      ],
      "execution_count": null,
      "outputs": [
        {
          "output_type": "execute_result",
          "data": {
            "text/plain": [
              "Text(0, 0.5, 'Loss [entropy]')"
            ]
          },
          "metadata": {
            "tags": []
          },
          "execution_count": 31
        },
        {
          "output_type": "display_data",
          "data": {
            "image/png": "[encoded data removed]",
            "text/plain": [
              "<Figure size 432x288 with 1 Axes>"
            ]
          },
          "metadata": {
            "tags": [],
            "needs_background": "light"
          }
        }
      ]
    },
    {
      "cell_type": "code",
      "metadata": {
        "id": "bCSMgCe5xcau",
        "colab_type": "code",
        "colab": {}
      },
      "source": [
        "# https://www.tensorflow.org/guide/eager"
      ],
      "execution_count": null,
      "outputs": []
    },
    {
      "cell_type": "markdown",
      "metadata": {
        "id": "BcRS9OJYVL_Z",
        "colab_type": "text"
      },
      "source": [
        "Referencia:\n",
        "\n",
        "https://www.pyimagesearch.com/2019/10/21/keras-vs-tf-keras-whats-the-difference-in-tensorflow-2-0/\n",
        "\n",
        "https://towardsdatascience.com/simple-neural-network-model-using-tensorflow-eager-execution-997bbadef84a"
      ]
    }
  ]
}